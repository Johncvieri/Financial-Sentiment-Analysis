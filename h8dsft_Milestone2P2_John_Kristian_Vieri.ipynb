{
  "nbformat": 4,
  "nbformat_minor": 0,
  "metadata": {
    "colab": {
      "name": "h8dsft_Milestone2P2_John-Kristian-Vieri.ipynb",
      "provenance": [],
      "toc_visible": true,
      "collapsed_sections": []
    },
    "kernelspec": {
      "name": "python3",
      "display_name": "Python 3"
    },
    "language_info": {
      "name": "python"
    },
    "accelerator": "GPU",
    "gpuClass": "standard"
  },
  "cells": [
    {
      "cell_type": "markdown",
      "source": [
        "---\n",
        "# **1. Introduction**\n",
        "\n",
        "  * **NAME  : JOHN KRISTIAN VIERI**\n",
        "  * **BATCH : 11**\n",
        "\n",
        "\n",
        "---\n",
        "\n",
        "# **About Dataset**\n",
        "*Data\n",
        "The following data is intended for advancing financial sentiment analysis research. It's two datasets (FiQA, Financial PhraseBank) combined into one. It provides financial sentences with sentiment labels*\n",
        "\n",
        "---\n",
        "\n",
        "# **Notebook References**\n",
        "\n",
        "- https://www.kaggle.com/code/bertcarremans/deep-learning-for-sentiment-analysis/notebook\n",
        "\n",
        "- https://colab.research.google.com/drive/1GgH4hmMGmYiJPk5EiZf4_9FUmqBuCahe#scrollTo=G-jtN0sOE6ZM\n",
        "\n",
        "---"
      ],
      "metadata": {
        "id": "2FSm4k5w7Nop"
      }
    },
    {
      "cell_type": "markdown",
      "source": [
        "# **2. Import Library**"
      ],
      "metadata": {
        "id": "liisUuua8K_s"
      }
    },
    {
      "cell_type": "code",
      "execution_count": null,
      "metadata": {
        "colab": {
          "base_uri": "https://localhost:8080/"
        },
        "id": "k9aOoVB47HtF",
        "outputId": "a62c1a3c-c8d6-4e84-c008-7eb2d68f2247"
      },
      "outputs": [
        {
          "output_type": "stream",
          "name": "stderr",
          "text": [
            "[nltk_data] Downloading package stopwords to /root/nltk_data...\n",
            "[nltk_data]   Package stopwords is already up-to-date!\n",
            "[nltk_data] Downloading package punkt to /root/nltk_data...\n",
            "[nltk_data]   Package punkt is already up-to-date!\n"
          ]
        },
        {
          "output_type": "execute_result",
          "data": {
            "text/plain": [
              "True"
            ]
          },
          "metadata": {},
          "execution_count": 64
        }
      ],
      "source": [
        "#####################################################################\n",
        "import numpy as np  # Linear Algebra \n",
        "import pandas as pd # Data Manipulation\n",
        "import re           # Text Manipulation\n",
        "import collections  # Storing data\n",
        "import matplotlib.pyplot as plt # Visualization\n",
        "import seaborn as sns # determine relationship\n",
        "#####################################################################\n",
        "from sklearn.model_selection import train_test_split # Train data and test data\n",
        "import tensorflow as tf # Train with neural network\n",
        "from sklearn.metrics import classification_report # Classification evaluation\n",
        "#####################################################################\n",
        "# Modelling\n",
        "from keras import models\n",
        "from keras import layers\n",
        "from keras import regularizers\n",
        "from tensorflow.keras.models import Model, Sequential\n",
        "from tensorflow import keras\n",
        "from tensorflow.keras.layers import Input, Dense, Flatten, Dropout\n",
        "from tensorflow.keras.callbacks import EarlyStopping,ModelCheckpoint\n",
        "from tensorflow.keras.layers import Dense, GlobalAveragePooling1D, Input\n",
        "from tensorflow.keras.layers import LSTM\n",
        "#####################################################################\n",
        "# Text Processing\n",
        "from nltk.stem import PorterStemmer\n",
        "import nltk\n",
        "from nltk.corpus import stopwords \n",
        "from keras.preprocessing.text import Tokenizer\n",
        "from nltk.tokenize import word_tokenize\n",
        "from keras.utils.np_utils import to_categorical\n",
        "from sklearn.preprocessing import LabelEncoder\n",
        "from tensorflow.keras.layers import TextVectorization, Embedding \n",
        "from tensorflow.keras.layers import GRU\n",
        "nltk.download('stopwords')\n",
        "nltk.download('punkt')\n",
        "#####################################################################"
      ]
    },
    {
      "cell_type": "markdown",
      "source": [
        "# **3. Data Loading**"
      ],
      "metadata": {
        "id": "xCwAvw1N8YEq"
      }
    },
    {
      "cell_type": "code",
      "source": [
        "from google.colab import drive\n",
        "drive.mount('/content/gdrive')"
      ],
      "metadata": {
        "colab": {
          "base_uri": "https://localhost:8080/"
        },
        "id": "exQ1WknC8eHd",
        "outputId": "21e1a701-e48d-46a7-a57a-6621e7b44d03"
      },
      "execution_count": null,
      "outputs": [
        {
          "output_type": "stream",
          "name": "stdout",
          "text": [
            "Drive already mounted at /content/gdrive; to attempt to forcibly remount, call drive.mount(\"/content/gdrive\", force_remount=True).\n"
          ]
        }
      ]
    },
    {
      "cell_type": "code",
      "source": [
        "df = pd.read_csv('/content/gdrive/MyDrive/Data/Milestone2P2-Dataset.csv')"
      ],
      "metadata": {
        "id": "HEZBJVzV9Gu0"
      },
      "execution_count": null,
      "outputs": []
    },
    {
      "cell_type": "code",
      "source": [
        "df.shape"
      ],
      "metadata": {
        "colab": {
          "base_uri": "https://localhost:8080/"
        },
        "id": "6gZgb1Ha9Ulb",
        "outputId": "276ef9d5-4bb3-46b1-b66c-bd8a4a097279"
      },
      "execution_count": null,
      "outputs": [
        {
          "output_type": "execute_result",
          "data": {
            "text/plain": [
              "(5842, 2)"
            ]
          },
          "metadata": {},
          "execution_count": 4
        }
      ]
    },
    {
      "cell_type": "markdown",
      "source": [
        "# **4.Exploratory Data Analysis**"
      ],
      "metadata": {
        "id": "h0tQbXYS9Zbf"
      }
    },
    {
      "cell_type": "markdown",
      "source": [
        "### 4.1 - *Words Sampling*"
      ],
      "metadata": {
        "id": "Lc5ZOfT--O_B"
      }
    },
    {
      "cell_type": "code",
      "source": [
        "# Define sample by target label\n",
        "good_sentence=df[df['Sentiment']=='positive']['Sentence']\n",
        "bad_sentence=df[df['Sentiment']=='negative']['Sentence']\n",
        "net_sentence=df[df['Sentiment']=='neutral']['Sentence']\n",
        "# Showin result\n",
        "print('-------------------------------------------------------------')\n",
        "print(' 5 samples of sentence ')\n",
        "print('-------------------------------------------------------------')\n",
        "print(\"1. Good sentence :\\n\".format(),good_sentence[:5])\n",
        "print('-------------------------------------------------------------')\n",
        "print('-------------------------------------------------------------')\n",
        "print(\"2. Bad sentence :\\n\".format(),bad_sentence[:5])\n",
        "print('-------------------------------------------------------------')\n",
        "print('-------------------------------------------------------------')\n",
        "print(\"3. Neutral sentence :\\n\".format(),net_sentence[:5])\n",
        "print('-------------------------------------------------------------')\n",
        "print('-------------------------------------------------------------')"
      ],
      "metadata": {
        "colab": {
          "base_uri": "https://localhost:8080/"
        },
        "id": "3JjjnOStxP9_",
        "outputId": "9b628410-7290-42ae-fa0a-0bcf4b491d2a"
      },
      "execution_count": null,
      "outputs": [
        {
          "output_type": "stream",
          "name": "stdout",
          "text": [
            "-------------------------------------------------------------\n",
            " 5 samples of sentence \n",
            "-------------------------------------------------------------\n",
            "1. Good sentence :\n",
            " 0     The GeoSolutions technology will leverage Bene...\n",
            "2     For the last quarter of 2010 , Componenta 's n...\n",
            "5       $SPY wouldn't be surprised to see a green close\n",
            "8     Kone 's net sales rose by some 14 % year-on-ye...\n",
            "10    Circulation revenue has increased by 5 % in Fi...\n",
            "Name: Sentence, dtype: object\n",
            "-------------------------------------------------------------\n",
            "-------------------------------------------------------------\n",
            "2. Bad sentence :\n",
            " 1     $ESI on lows, down $1.50 to $2.50 BK a real po...\n",
            "6     Shell's $70 Billion BG Deal Meets Shareholder ...\n",
            "7     SSH COMMUNICATIONS SECURITY CORP STOCK EXCHANG...\n",
            "11    $SAP Q1 disappoints as #software licenses down...\n",
            "39    $AAPL afternoon selloff as usual will be bruta...\n",
            "Name: Sentence, dtype: object\n",
            "-------------------------------------------------------------\n",
            "-------------------------------------------------------------\n",
            "3. Neutral sentence :\n",
            " 3     According to the Finnish-Russian Chamber of Co...\n",
            "4     The Swedish buyout firm has sold its remaining...\n",
            "9     The Stockmann department store will have a tot...\n",
            "13             Viking Line has canceled some services .\n",
            "14    Ahlstrom Corporation STOCK EXCHANGE ANNOUNCEME...\n",
            "Name: Sentence, dtype: object\n",
            "-------------------------------------------------------------\n",
            "-------------------------------------------------------------\n"
          ]
        }
      ]
    },
    {
      "cell_type": "markdown",
      "source": [
        "### 4.2 - *Sentiment Count*"
      ],
      "metadata": {
        "id": "adMKAxpk-Wcu"
      }
    },
    {
      "cell_type": "code",
      "source": [
        "# Sentiment count baseline\n",
        "##################################################################\n",
        "# Define count by sentiment\n",
        "count = df['Sentiment'].value_counts()\n",
        "print(\"---------------------------------------------------------\")\n",
        "print(\"---------------------------------------------------------\")\n",
        "print(\"Total sentences by sentiment :\")\n",
        "print(count)\n",
        "print(\"---------------------------------------------------------\")\n",
        "print(\"---------------------------------------------------------\")\n",
        "###################################################################\n",
        "# Build plot function\n",
        "def plot_counts(count_good,count_bad,count_net):\n",
        "    plt.rcParams['figure.figsize']=(6,6)\n",
        "    # Positive\n",
        "    plt.bar(0,count_good,width=0.6,label='Positive Sentence',color='Green')\n",
        "    plt.legend()\n",
        "    # Negative\n",
        "    plt.bar(2,count_bad,width=0.6,label='Negative Sentence',color='Red')\n",
        "    plt.legend()\n",
        "    # Neutral\n",
        "    plt.bar(3,count_net,width=0.6,label='Neutral Sentence',color='Blue')\n",
        "    plt.legend()\n",
        "    # Define Label\n",
        "    plt.ylabel('Count of Sentence')\n",
        "    plt.xlabel('Types of Sentence')\n",
        "    plt.show()\n",
        "####################################################################    \n",
        "# Define sentiment label    \n",
        "count_good=df[df['Sentiment']=='positive']\n",
        "count_bad=df[df['Sentiment']=='negative']\n",
        "count_net=df[df['Sentiment']=='neutral']\n",
        "# Showin Plot\n",
        "plot_counts(len(count_good),len(count_bad),len(count_net))"
      ],
      "metadata": {
        "colab": {
          "base_uri": "https://localhost:8080/",
          "height": 544
        },
        "id": "Yio8ZJ6C44Pv",
        "outputId": "d1d8573f-6dc4-4a5a-f0e4-a2b89d8b673b"
      },
      "execution_count": null,
      "outputs": [
        {
          "output_type": "stream",
          "name": "stdout",
          "text": [
            "---------------------------------------------------------\n",
            "---------------------------------------------------------\n",
            "Total sentences by sentiment :\n",
            "neutral     3130\n",
            "positive    1852\n",
            "negative     860\n",
            "Name: Sentiment, dtype: int64\n",
            "---------------------------------------------------------\n",
            "---------------------------------------------------------\n"
          ]
        },
        {
          "output_type": "display_data",
          "data": {
            "text/plain": [
              "<Figure size 432x432 with 1 Axes>"
            ],
            "image/png": "[encoded data removed]"
          },
          "metadata": {
            "needs_background": "light"
          }
        }
      ]
    },
    {
      "cell_type": "markdown",
      "source": [
        "## 4.3 - *Distribution of sentence by sentiment level*"
      ],
      "metadata": {
        "id": "0ZSL100H6szY"
      }
    },
    {
      "cell_type": "code",
      "source": [
        "# Baseline for analyze number of words in each Sentence\n",
        "\n",
        "\n",
        "# Build function word length\n",
        "def c_len(df):\n",
        "    return len(df)\n",
        "\n",
        "################################################################################\n",
        "\n",
        "# Build a plot with seaborn to see the distribution of sentence by sentiment level\n",
        "def plot_count(count_ones,count_zeros,count_two,title_1,title_2,title_3,subtitle):\n",
        "# Define axis and size\n",
        "    fig,(ax1,ax2,ax3)=plt.subplots(3,figsize=(10,15))\n",
        "    # Distplot\n",
        "    sns.distplot(count_zeros,ax=ax1,color='Blue')\n",
        "    ax1.set_title(title_1)\n",
        "    sns.distplot(count_ones,ax=ax2,color='Red')\n",
        "    ax2.set_title(title_2)\n",
        "    sns.distplot(count_two,ax=ax3,color='Green')\n",
        "    ax3.set_title(title_3)\n",
        "    # Showin\n",
        "    fig.suptitle(subtitle)\n",
        "    plt.show()    \n",
        "\n",
        "\n",
        "################################################################################\n",
        "\n",
        "# Define count of 3 level sentiment\n",
        "count_good_words=count_good['Sentence'].str.split().apply(lambda z:c_len(z))\n",
        "count_bad_words=count_bad['Sentence'].str.split().apply(lambda z:c_len(z))\n",
        "count_net_words=count_net['Sentence'].str.split().apply(lambda z:c_len(z))\n",
        "\n",
        "# Print count words\n",
        "print(\"Positive Sentence Words:\" + str(count_good_words))\n",
        "print(\"Negative Sentence Words:\" + str(count_bad_words))\n",
        "print(\"Neutral Sentence Words:\" + str(count_net_words))\n",
        "\n",
        "# Plot with plot_count function\n",
        "plot_count(count_good_words,count_bad_words,count_net_words,\"Positive Sentence\",\"Negative Sentence\",\"Neutral Sentence\",\"Sentences Analysis\")\n",
        "\n",
        "################################################################################"
      ],
      "metadata": {
        "colab": {
          "base_uri": "https://localhost:8080/",
          "height": 1000
        },
        "id": "EQtADL5Y6ksp",
        "outputId": "0a8a6a24-131d-4d4d-e223-b73f6eb36710"
      },
      "execution_count": null,
      "outputs": [
        {
          "output_type": "stream",
          "name": "stdout",
          "text": [
            "Positive Sentence Words:0       32\n",
            "2       39\n",
            "5        9\n",
            "8       18\n",
            "10      17\n",
            "        ..\n",
            "5819    25\n",
            "5824    46\n",
            "5825    13\n",
            "5836    18\n",
            "5841    27\n",
            "Name: Sentence, Length: 1852, dtype: int64\n",
            "Negative Sentence Words:1       11\n",
            "6        8\n",
            "7       34\n",
            "11      18\n",
            "39      16\n",
            "        ..\n",
            "5829    12\n",
            "5831    25\n",
            "5832    14\n",
            "5835    10\n",
            "5837    17\n",
            "Name: Sentence, Length: 860, dtype: int64\n",
            "Neutral Sentence Words:3       20\n",
            "4       23\n",
            "9       33\n",
            "13       7\n",
            "14      36\n",
            "        ..\n",
            "5833    18\n",
            "5834    15\n",
            "5838    14\n",
            "5839    16\n",
            "5840    18\n",
            "Name: Sentence, Length: 3130, dtype: int64\n"
          ]
        },
        {
          "output_type": "stream",
          "name": "stderr",
          "text": [
            "/usr/local/lib/python3.7/dist-packages/seaborn/distributions.py:2619: FutureWarning: `distplot` is a deprecated function and will be removed in a future version. Please adapt your code to use either `displot` (a figure-level function with similar flexibility) or `histplot` (an axes-level function for histograms).\n",
            "  warnings.warn(msg, FutureWarning)\n",
            "/usr/local/lib/python3.7/dist-packages/seaborn/distributions.py:2619: FutureWarning: `distplot` is a deprecated function and will be removed in a future version. Please adapt your code to use either `displot` (a figure-level function with similar flexibility) or `histplot` (an axes-level function for histograms).\n",
            "  warnings.warn(msg, FutureWarning)\n",
            "/usr/local/lib/python3.7/dist-packages/seaborn/distributions.py:2619: FutureWarning: `distplot` is a deprecated function and will be removed in a future version. Please adapt your code to use either `displot` (a figure-level function with similar flexibility) or `histplot` (an axes-level function for histograms).\n",
            "  warnings.warn(msg, FutureWarning)\n"
          ]
        },
        {
          "output_type": "display_data",
          "data": {
            "text/plain": [
              "<Figure size 720x1080 with 3 Axes>"
            ],
            "image/png": "[encoded data removed]"
          },
          "metadata": {
            "needs_background": "light"
          }
        }
      ]
    },
    {
      "cell_type": "markdown",
      "source": [
        "## 4.4 - *Count Unique Character*"
      ],
      "metadata": {
        "id": "F7TUietAYL4d"
      }
    },
    {
      "cell_type": "code",
      "source": [
        "# Total of unique character in each sentence\n",
        "count_unique = pd.Series([char for sentence in df[\"Sentence\"] for char in sentence]).unique()\n",
        "print(\"Count unique chararacter:\",len(count_unique))"
      ],
      "metadata": {
        "colab": {
          "base_uri": "https://localhost:8080/"
        },
        "id": "U0yuOC5JMXPv",
        "outputId": "0b64d98e-99d4-4a30-ed4f-897cd4452223"
      },
      "execution_count": null,
      "outputs": [
        {
          "output_type": "stream",
          "name": "stdout",
          "text": [
            "Count unique chararacter: 119\n"
          ]
        }
      ]
    },
    {
      "cell_type": "code",
      "source": [
        "print(count_unique)"
      ],
      "metadata": {
        "colab": {
          "base_uri": "https://localhost:8080/"
        },
        "id": "t11ebrDGPpXy",
        "outputId": "d5ac9f58-5183-4c78-a8b6-30558ef46c3a"
      },
      "execution_count": null,
      "outputs": [
        {
          "output_type": "stream",
          "name": "stdout",
          "text": [
            "['T' 'h' 'e' ' ' 'G' 'o' 'S' 'l' 'u' 't' 'i' 'n' 's' 'c' 'g' 'y' 'w' 'v'\n",
            " 'r' 'a' 'B' 'f' \"'\" 'P' 'b' 'p' 'd' 'L' ',' 'C' 'm' '.' '$' 'E' 'I' '1'\n",
            " '5' '0' '2' 'K' 'F' 'q' 'U' 'R' '3' '7' '6' 'z' '-' 'x' 'A' 'j' '4' 'k'\n",
            " 'Y' 'D' 'M' 'H' 'O' 'N' 'X' '8' ':' '%' 'Q' '#' '?' '/' '9' 'V' '+' 'ñ'\n",
            " 'J' '`' 'W' '@' '&' '(' ')' 'Z' 'ú' '!' '>' 'ó' 'Â' '£' '\"' ';' 'à' '®'\n",
            " '¦' '=' 'ä' 'â' '€' '“' 'Ã' '¶' 'Ñ' '_' '📈' 'é' '…' '”' '^' 'á' '«' '|'\n",
            " '[' ']' '~' '{' '}' '¼' '¬' 'í' '<' 'Á' '’']\n"
          ]
        }
      ]
    },
    {
      "cell_type": "markdown",
      "source": [
        "## 4.4 Conclusion\n",
        "\n",
        "---\n",
        "\n",
        "1. Sentences that have negative, neutral or positive sentiments have the same distribution, which is skewed to the right\n",
        "\n",
        "2. Each sentence mostly has 20 words\n",
        "\n",
        "3. Based on the target, most sentences are detected as neutral sentences and then followed by sentences with positive connotations\n",
        "\n",
        "4. There are 119 unique sentences, which also include symbols that are not needed, so they will be cleaned, so as not to interfere with the prediction results.\n",
        "\n",
        "---"
      ],
      "metadata": {
        "id": "dUQnsYp3_jTH"
      }
    },
    {
      "cell_type": "markdown",
      "source": [
        "# **5.Data Preprocessing**\n"
      ],
      "metadata": {
        "id": "zrsnAfnaC9P1"
      }
    },
    {
      "cell_type": "markdown",
      "source": [
        "## 5.1 - Data Inference"
      ],
      "metadata": {
        "id": "RSDYGQJ9M92G"
      }
    },
    {
      "cell_type": "code",
      "source": [
        "# Define data inference with 10 samples\n",
        "data_inf = df.sample(10, random_state=30)\n",
        "data_inf"
      ],
      "metadata": {
        "colab": {
          "base_uri": "https://localhost:8080/",
          "height": 363
        },
        "id": "YenJ8lWqM9c1",
        "outputId": "378f9788-3629-4400-cc4e-eee574316c8b"
      },
      "execution_count": null,
      "outputs": [
        {
          "output_type": "execute_result",
          "data": {
            "text/plain": [
              "                                               Sentence Sentiment\n",
              "5143  The company also said that its board of direct...   neutral\n",
              "1702  In 2007 Talentum will disclose three Interim R...   neutral\n",
              "4610  `` While concerns remain longer term , size an...  positive\n",
              "326               ( I&H ) in a move to enhance growth .  positive\n",
              "535   It also turned to earnings per share ( EPS ) o...  positive\n",
              "2776  However , the orders received during the perio...   neutral\n",
              "5370  Coca-Cola was the market leader of manufacture...   neutral\n",
              "1532  $SLW is down, but weekly $34 calls (-28.95%), ...  positive\n",
              "2094  Nonwovens and specialty papers , made by Ahlst...   neutral\n",
              "3840  Finnish construction company YIT Oyj said on N...  positive"
            ],
            "text/html": [
              "\n",
              "  <div id=\"df-4b6f1d97-6dcf-4a66-a428-624e6fec3641\">\n",
              "    <div class=\"colab-df-container\">\n",
              "      <div>\n",
              "<style scoped>\n",
              "    .dataframe tbody tr th:only-of-type {\n",
              "        vertical-align: middle;\n",
              "    }\n",
              "\n",
              "    .dataframe tbody tr th {\n",
              "        vertical-align: top;\n",
              "    }\n",
              "\n",
              "    .dataframe thead th {\n",
              "        text-align: right;\n",
              "    }\n",
              "</style>\n",
              "<table border=\"1\" class=\"dataframe\">\n",
              "  <thead>\n",
              "    <tr style=\"text-align: right;\">\n",
              "      <th></th>\n",
              "      <th>Sentence</th>\n",
              "      <th>Sentiment</th>\n",
              "    </tr>\n",
              "  </thead>\n",
              "  <tbody>\n",
              "    <tr>\n",
              "      <th>5143</th>\n",
              "      <td>The company also said that its board of direct...</td>\n",
              "      <td>neutral</td>\n",
              "    </tr>\n",
              "    <tr>\n",
              "      <th>1702</th>\n",
              "      <td>In 2007 Talentum will disclose three Interim R...</td>\n",
              "      <td>neutral</td>\n",
              "    </tr>\n",
              "    <tr>\n",
              "      <th>4610</th>\n",
              "      <td>`` While concerns remain longer term , size an...</td>\n",
              "      <td>positive</td>\n",
              "    </tr>\n",
              "    <tr>\n",
              "      <th>326</th>\n",
              "      <td>( I&amp;H ) in a move to enhance growth .</td>\n",
              "      <td>positive</td>\n",
              "    </tr>\n",
              "    <tr>\n",
              "      <th>535</th>\n",
              "      <td>It also turned to earnings per share ( EPS ) o...</td>\n",
              "      <td>positive</td>\n",
              "    </tr>\n",
              "    <tr>\n",
              "      <th>2776</th>\n",
              "      <td>However , the orders received during the perio...</td>\n",
              "      <td>neutral</td>\n",
              "    </tr>\n",
              "    <tr>\n",
              "      <th>5370</th>\n",
              "      <td>Coca-Cola was the market leader of manufacture...</td>\n",
              "      <td>neutral</td>\n",
              "    </tr>\n",
              "    <tr>\n",
              "      <th>1532</th>\n",
              "      <td>$SLW is down, but weekly $34 calls (-28.95%), ...</td>\n",
              "      <td>positive</td>\n",
              "    </tr>\n",
              "    <tr>\n",
              "      <th>2094</th>\n",
              "      <td>Nonwovens and specialty papers , made by Ahlst...</td>\n",
              "      <td>neutral</td>\n",
              "    </tr>\n",
              "    <tr>\n",
              "      <th>3840</th>\n",
              "      <td>Finnish construction company YIT Oyj said on N...</td>\n",
              "      <td>positive</td>\n",
              "    </tr>\n",
              "  </tbody>\n",
              "</table>\n",
              "</div>\n",
              "      <button class=\"colab-df-convert\" onclick=\"convertToInteractive('df-4b6f1d97-6dcf-4a66-a428-624e6fec3641')\"\n",
              "              title=\"Convert this dataframe to an interactive table.\"\n",
              "              style=\"display:none;\">\n",
              "        \n",
              "  <svg xmlns=\"http://www.w3.org/2000/svg\" height=\"24px\"viewBox=\"0 0 24 24\"\n",
              "       width=\"24px\">\n",
              "    <path d=\"M0 0h24v24H0V0z\" fill=\"none\"/>\n",
              "    <path d=\"M18.56 5.44l.94 2.06.94-2.06 2.06-.94-2.06-.94-.94-2.06-.94 2.06-2.06.94zm-11 1L8.5 8.5l.94-2.06 2.06-.94-2.06-.94L8.5 2.5l-.94 2.06-2.06.94zm10 10l.94 2.06.94-2.06 2.06-.94-2.06-.94-.94-2.06-.94 2.06-2.06.94z\"/><path d=\"M17.41 7.96l-1.37-1.37c-.4-.4-.92-.59-1.43-.59-.52 0-1.04.2-1.43.59L10.3 9.45l-7.72 7.72c-.78.78-.78 2.05 0 2.83L4 21.41c.39.39.9.59 1.41.59.51 0 1.02-.2 1.41-.59l7.78-7.78 2.81-2.81c.8-.78.8-2.07 0-2.86zM5.41 20L4 18.59l7.72-7.72 1.47 1.35L5.41 20z\"/>\n",
              "  </svg>\n",
              "      </button>\n",
              "      \n",
              "  <style>\n",
              "    .colab-df-container {\n",
              "      display:flex;\n",
              "      flex-wrap:wrap;\n",
              "      gap: 12px;\n",
              "    }\n",
              "\n",
              "    .colab-df-convert {\n",
              "      background-color: #E8F0FE;\n",
              "      border: none;\n",
              "      border-radius: 50%;\n",
              "      cursor: pointer;\n",
              "      display: none;\n",
              "      fill: #1967D2;\n",
              "      height: 32px;\n",
              "      padding: 0 0 0 0;\n",
              "      width: 32px;\n",
              "    }\n",
              "\n",
              "    .colab-df-convert:hover {\n",
              "      background-color: #E2EBFA;\n",
              "      box-shadow: 0px 1px 2px rgba(60, 64, 67, 0.3), 0px 1px 3px 1px rgba(60, 64, 67, 0.15);\n",
              "      fill: #174EA6;\n",
              "    }\n",
              "\n",
              "    [theme=dark] .colab-df-convert {\n",
              "      background-color: #3B4455;\n",
              "      fill: #D2E3FC;\n",
              "    }\n",
              "\n",
              "    [theme=dark] .colab-df-convert:hover {\n",
              "      background-color: #434B5C;\n",
              "      box-shadow: 0px 1px 3px 1px rgba(0, 0, 0, 0.15);\n",
              "      filter: drop-shadow(0px 1px 2px rgba(0, 0, 0, 0.3));\n",
              "      fill: #FFFFFF;\n",
              "    }\n",
              "  </style>\n",
              "\n",
              "      <script>\n",
              "        const buttonEl =\n",
              "          document.querySelector('#df-4b6f1d97-6dcf-4a66-a428-624e6fec3641 button.colab-df-convert');\n",
              "        buttonEl.style.display =\n",
              "          google.colab.kernel.accessAllowed ? 'block' : 'none';\n",
              "\n",
              "        async function convertToInteractive(key) {\n",
              "          const element = document.querySelector('#df-4b6f1d97-6dcf-4a66-a428-624e6fec3641');\n",
              "          const dataTable =\n",
              "            await google.colab.kernel.invokeFunction('convertToInteractive',\n",
              "                                                     [key], {});\n",
              "          if (!dataTable) return;\n",
              "\n",
              "          const docLinkHtml = 'Like what you see? Visit the ' +\n",
              "            '<a target=\"_blank\" href=https://colab.research.google.com/notebooks/data_table.ipynb>data table notebook</a>'\n",
              "            + ' to learn more about interactive tables.';\n",
              "          element.innerHTML = '';\n",
              "          dataTable['output_type'] = 'display_data';\n",
              "          await google.colab.output.renderOutput(dataTable, element);\n",
              "          const docLink = document.createElement('div');\n",
              "          docLink.innerHTML = docLinkHtml;\n",
              "          element.appendChild(docLink);\n",
              "        }\n",
              "      </script>\n",
              "    </div>\n",
              "  </div>\n",
              "  "
            ]
          },
          "metadata": {},
          "execution_count": 10
        }
      ]
    },
    {
      "cell_type": "code",
      "source": [
        "# Drop index\n",
        "data = df.drop(data_inf.index)\n",
        "data "
      ],
      "metadata": {
        "colab": {
          "base_uri": "https://localhost:8080/",
          "height": 423
        },
        "id": "Kkq_ZK7fNHTu",
        "outputId": "328cc836-b1d1-491d-b8a6-7838b897405a"
      },
      "execution_count": null,
      "outputs": [
        {
          "output_type": "execute_result",
          "data": {
            "text/plain": [
              "                                               Sentence Sentiment\n",
              "0     The GeoSolutions technology will leverage Bene...  positive\n",
              "1     $ESI on lows, down $1.50 to $2.50 BK a real po...  negative\n",
              "2     For the last quarter of 2010 , Componenta 's n...  positive\n",
              "3     According to the Finnish-Russian Chamber of Co...   neutral\n",
              "4     The Swedish buyout firm has sold its remaining...   neutral\n",
              "...                                                 ...       ...\n",
              "5837  RISING costs have forced packaging producer Hu...  negative\n",
              "5838  Nordic Walking was first used as a summer trai...   neutral\n",
              "5839  According shipping company Viking Line , the E...   neutral\n",
              "5840  In the building and home improvement trade , s...   neutral\n",
              "5841  HELSINKI AFX - KCI Konecranes said it has won ...  positive\n",
              "\n",
              "[5832 rows x 2 columns]"
            ],
            "text/html": [
              "\n",
              "  <div id=\"df-1ccf1788-bb17-4ec4-82c3-d92d32d9b441\">\n",
              "    <div class=\"colab-df-container\">\n",
              "      <div>\n",
              "<style scoped>\n",
              "    .dataframe tbody tr th:only-of-type {\n",
              "        vertical-align: middle;\n",
              "    }\n",
              "\n",
              "    .dataframe tbody tr th {\n",
              "        vertical-align: top;\n",
              "    }\n",
              "\n",
              "    .dataframe thead th {\n",
              "        text-align: right;\n",
              "    }\n",
              "</style>\n",
              "<table border=\"1\" class=\"dataframe\">\n",
              "  <thead>\n",
              "    <tr style=\"text-align: right;\">\n",
              "      <th></th>\n",
              "      <th>Sentence</th>\n",
              "      <th>Sentiment</th>\n",
              "    </tr>\n",
              "  </thead>\n",
              "  <tbody>\n",
              "    <tr>\n",
              "      <th>0</th>\n",
              "      <td>The GeoSolutions technology will leverage Bene...</td>\n",
              "      <td>positive</td>\n",
              "    </tr>\n",
              "    <tr>\n",
              "      <th>1</th>\n",
              "      <td>$ESI on lows, down $1.50 to $2.50 BK a real po...</td>\n",
              "      <td>negative</td>\n",
              "    </tr>\n",
              "    <tr>\n",
              "      <th>2</th>\n",
              "      <td>For the last quarter of 2010 , Componenta 's n...</td>\n",
              "      <td>positive</td>\n",
              "    </tr>\n",
              "    <tr>\n",
              "      <th>3</th>\n",
              "      <td>According to the Finnish-Russian Chamber of Co...</td>\n",
              "      <td>neutral</td>\n",
              "    </tr>\n",
              "    <tr>\n",
              "      <th>4</th>\n",
              "      <td>The Swedish buyout firm has sold its remaining...</td>\n",
              "      <td>neutral</td>\n",
              "    </tr>\n",
              "    <tr>\n",
              "      <th>...</th>\n",
              "      <td>...</td>\n",
              "      <td>...</td>\n",
              "    </tr>\n",
              "    <tr>\n",
              "      <th>5837</th>\n",
              "      <td>RISING costs have forced packaging producer Hu...</td>\n",
              "      <td>negative</td>\n",
              "    </tr>\n",
              "    <tr>\n",
              "      <th>5838</th>\n",
              "      <td>Nordic Walking was first used as a summer trai...</td>\n",
              "      <td>neutral</td>\n",
              "    </tr>\n",
              "    <tr>\n",
              "      <th>5839</th>\n",
              "      <td>According shipping company Viking Line , the E...</td>\n",
              "      <td>neutral</td>\n",
              "    </tr>\n",
              "    <tr>\n",
              "      <th>5840</th>\n",
              "      <td>In the building and home improvement trade , s...</td>\n",
              "      <td>neutral</td>\n",
              "    </tr>\n",
              "    <tr>\n",
              "      <th>5841</th>\n",
              "      <td>HELSINKI AFX - KCI Konecranes said it has won ...</td>\n",
              "      <td>positive</td>\n",
              "    </tr>\n",
              "  </tbody>\n",
              "</table>\n",
              "<p>5832 rows × 2 columns</p>\n",
              "</div>\n",
              "      <button class=\"colab-df-convert\" onclick=\"convertToInteractive('df-1ccf1788-bb17-4ec4-82c3-d92d32d9b441')\"\n",
              "              title=\"Convert this dataframe to an interactive table.\"\n",
              "              style=\"display:none;\">\n",
              "        \n",
              "  <svg xmlns=\"http://www.w3.org/2000/svg\" height=\"24px\"viewBox=\"0 0 24 24\"\n",
              "       width=\"24px\">\n",
              "    <path d=\"M0 0h24v24H0V0z\" fill=\"none\"/>\n",
              "    <path d=\"M18.56 5.44l.94 2.06.94-2.06 2.06-.94-2.06-.94-.94-2.06-.94 2.06-2.06.94zm-11 1L8.5 8.5l.94-2.06 2.06-.94-2.06-.94L8.5 2.5l-.94 2.06-2.06.94zm10 10l.94 2.06.94-2.06 2.06-.94-2.06-.94-.94-2.06-.94 2.06-2.06.94z\"/><path d=\"M17.41 7.96l-1.37-1.37c-.4-.4-.92-.59-1.43-.59-.52 0-1.04.2-1.43.59L10.3 9.45l-7.72 7.72c-.78.78-.78 2.05 0 2.83L4 21.41c.39.39.9.59 1.41.59.51 0 1.02-.2 1.41-.59l7.78-7.78 2.81-2.81c.8-.78.8-2.07 0-2.86zM5.41 20L4 18.59l7.72-7.72 1.47 1.35L5.41 20z\"/>\n",
              "  </svg>\n",
              "      </button>\n",
              "      \n",
              "  <style>\n",
              "    .colab-df-container {\n",
              "      display:flex;\n",
              "      flex-wrap:wrap;\n",
              "      gap: 12px;\n",
              "    }\n",
              "\n",
              "    .colab-df-convert {\n",
              "      background-color: #E8F0FE;\n",
              "      border: none;\n",
              "      border-radius: 50%;\n",
              "      cursor: pointer;\n",
              "      display: none;\n",
              "      fill: #1967D2;\n",
              "      height: 32px;\n",
              "      padding: 0 0 0 0;\n",
              "      width: 32px;\n",
              "    }\n",
              "\n",
              "    .colab-df-convert:hover {\n",
              "      background-color: #E2EBFA;\n",
              "      box-shadow: 0px 1px 2px rgba(60, 64, 67, 0.3), 0px 1px 3px 1px rgba(60, 64, 67, 0.15);\n",
              "      fill: #174EA6;\n",
              "    }\n",
              "\n",
              "    [theme=dark] .colab-df-convert {\n",
              "      background-color: #3B4455;\n",
              "      fill: #D2E3FC;\n",
              "    }\n",
              "\n",
              "    [theme=dark] .colab-df-convert:hover {\n",
              "      background-color: #434B5C;\n",
              "      box-shadow: 0px 1px 3px 1px rgba(0, 0, 0, 0.15);\n",
              "      filter: drop-shadow(0px 1px 2px rgba(0, 0, 0, 0.3));\n",
              "      fill: #FFFFFF;\n",
              "    }\n",
              "  </style>\n",
              "\n",
              "      <script>\n",
              "        const buttonEl =\n",
              "          document.querySelector('#df-1ccf1788-bb17-4ec4-82c3-d92d32d9b441 button.colab-df-convert');\n",
              "        buttonEl.style.display =\n",
              "          google.colab.kernel.accessAllowed ? 'block' : 'none';\n",
              "\n",
              "        async function convertToInteractive(key) {\n",
              "          const element = document.querySelector('#df-1ccf1788-bb17-4ec4-82c3-d92d32d9b441');\n",
              "          const dataTable =\n",
              "            await google.colab.kernel.invokeFunction('convertToInteractive',\n",
              "                                                     [key], {});\n",
              "          if (!dataTable) return;\n",
              "\n",
              "          const docLinkHtml = 'Like what you see? Visit the ' +\n",
              "            '<a target=\"_blank\" href=https://colab.research.google.com/notebooks/data_table.ipynb>data table notebook</a>'\n",
              "            + ' to learn more about interactive tables.';\n",
              "          element.innerHTML = '';\n",
              "          dataTable['output_type'] = 'display_data';\n",
              "          await google.colab.output.renderOutput(dataTable, element);\n",
              "          const docLink = document.createElement('div');\n",
              "          docLink.innerHTML = docLinkHtml;\n",
              "          element.appendChild(docLink);\n",
              "        }\n",
              "      </script>\n",
              "    </div>\n",
              "  </div>\n",
              "  "
            ]
          },
          "metadata": {},
          "execution_count": 11
        }
      ]
    },
    {
      "cell_type": "code",
      "source": [
        "# reset index\n",
        "data.reset_index(drop=True, inplace=True)\n",
        "data_inf.reset_index(drop=True, inplace=True)"
      ],
      "metadata": {
        "id": "-2k-2XG3NQ0d"
      },
      "execution_count": null,
      "outputs": []
    },
    {
      "cell_type": "markdown",
      "source": [
        "## 5.2 - Text Preprocessing and Data Cleaning"
      ],
      "metadata": {
        "id": "PFGY3DpUSAqn"
      }
    },
    {
      "cell_type": "markdown",
      "source": [
        "### 5.2.1 - Missing Value"
      ],
      "metadata": {
        "id": "5GuSAo1hatU-"
      }
    },
    {
      "cell_type": "code",
      "source": [
        "# check missing value\n",
        "df.isna().sum()"
      ],
      "metadata": {
        "colab": {
          "base_uri": "https://localhost:8080/"
        },
        "id": "_dJfj2xLdD1r",
        "outputId": "fc185647-3917-486d-da7b-a9aafff61404"
      },
      "execution_count": null,
      "outputs": [
        {
          "output_type": "execute_result",
          "data": {
            "text/plain": [
              "Sentence     0\n",
              "Sentiment    0\n",
              "dtype: int64"
            ]
          },
          "metadata": {},
          "execution_count": 13
        }
      ]
    },
    {
      "cell_type": "markdown",
      "source": [
        "### 5.2.2 - Case Folding\n",
        "\n"
      ],
      "metadata": {
        "id": "0X4dmuwttpvK"
      }
    },
    {
      "cell_type": "markdown",
      "source": [
        "#### Split Dataset"
      ],
      "metadata": {
        "id": "2heb317cUEbN"
      }
    },
    {
      "cell_type": "code",
      "source": [
        "# split data and use stratify to equalize label percentage\n",
        "train_data, test_data = train_test_split(df, test_size=0.15, random_state=77, stratify=df.Sentiment)\n",
        "train_data, val_data = train_test_split (train_data, test_size=0.1, random_state=77, stratify=train_data.Sentiment)"
      ],
      "metadata": {
        "id": "PpiBIo-inJHM"
      },
      "execution_count": null,
      "outputs": []
    },
    {
      "cell_type": "code",
      "source": [
        "# define X_train,val and test\n",
        "X_train,y_train = train_data.Sentence, train_data.Sentiment\n",
        "X_val,y_val = val_data.Sentence, val_data.Sentiment\n",
        "X_test,y_test = test_data.Sentence, test_data.Sentiment"
      ],
      "metadata": {
        "id": "bWZ5XXoDnavM"
      },
      "execution_count": null,
      "outputs": []
    },
    {
      "cell_type": "markdown",
      "source": [
        "#### Label Encoder"
      ],
      "metadata": {
        "id": "AzgnobEhUHyB"
      }
    },
    {
      "cell_type": "code",
      "source": [
        "# use encoder label then define to to_category\n",
        "le = LabelEncoder()\n",
        "y_train_le = le.fit_transform(y_train)\n",
        "y_test_le = le.transform(y_test)\n",
        "y_val_le  = le.transform(y_val)\n",
        "y_train_oh = to_categorical(y_train_le)\n",
        "y_test_oh = to_categorical(y_test_le)\n",
        "y_val_oh  = to_categorical(y_val_le)\n",
        "\n",
        "print(y_val_oh)"
      ],
      "metadata": {
        "colab": {
          "base_uri": "https://localhost:8080/"
        },
        "id": "ytbNm_-Nnzvk",
        "outputId": "eaf1cc6d-bd8e-4bc5-b58e-61450552a194"
      },
      "execution_count": null,
      "outputs": [
        {
          "output_type": "stream",
          "name": "stdout",
          "text": [
            "[[0. 0. 1.]\n",
            " [0. 1. 0.]\n",
            " [0. 1. 0.]\n",
            " ...\n",
            " [0. 1. 0.]\n",
            " [0. 1. 0.]\n",
            " [0. 1. 0.]]\n"
          ]
        }
      ]
    },
    {
      "cell_type": "markdown",
      "source": [
        "### 5.2.3 Text Preprocessing"
      ],
      "metadata": {
        "id": "85BBZeOuUMv5"
      }
    },
    {
      "cell_type": "markdown",
      "source": [
        "#### Stemming"
      ],
      "metadata": {
        "id": "KWRjiSBZW7By"
      }
    },
    {
      "cell_type": "code",
      "source": [
        "# Stemming\n",
        "\n",
        "# Define stem\n",
        "ps = PorterStemmer()\n",
        "stemmer = PorterStemmer()\n",
        "\n",
        "# build stem\n",
        "def stem_sent(sent):\n",
        "  output   = stemmer.stem(sent)\n",
        "  return output\n",
        "\n",
        "# apply to data\n",
        "X_train = X_train.apply(stem_sent)\n",
        "X_val = X_val.apply(stem_sent)\n",
        "X_test = X_test.apply(stem_sent)"
      ],
      "metadata": {
        "id": "bG1pyXEZpzJO"
      },
      "execution_count": null,
      "outputs": []
    },
    {
      "cell_type": "code",
      "source": [
        "X_val"
      ],
      "metadata": {
        "colab": {
          "base_uri": "https://localhost:8080/"
        },
        "id": "T2LyRiSXq09D",
        "outputId": "b2ff42c7-a024-492a-9bca-f99332a92f19"
      },
      "execution_count": null,
      "outputs": [
        {
          "output_type": "execute_result",
          "data": {
            "text/plain": [
              "5487    within the framework of the partnership , noki...\n",
              "2014    in january-september 2007 , operating profit t...\n",
              "2307    the group , with net sales of eur 235 million ...\n",
              "5366    operating profit totalled eur 0.4 mn , up from...\n",
              "2560    `` there 's the issue of thieves stealing them...\n",
              "                              ...                        \n",
              "5452    `` demand for sports equipment was good in 2005 .\n",
              "4325    water treatment products in australia today , ...\n",
              "515     the adjustments concern staff in both the spec...\n",
              "3806    among other industrial stocks , metso added 0....\n",
              "3754    in a recent interview with the financial times...\n",
              "Name: Sentence, Length: 497, dtype: object"
            ]
          },
          "metadata": {},
          "execution_count": 19
        }
      ]
    },
    {
      "cell_type": "code",
      "source": [
        "round(sum([len(i.split()) for i in X_train])/len(X_train))"
      ],
      "metadata": {
        "colab": {
          "base_uri": "https://localhost:8080/"
        },
        "id": "tzhzKousqAJz",
        "outputId": "5cec3081-f024-49a6-f463-8dae3d22299b"
      },
      "execution_count": null,
      "outputs": [
        {
          "output_type": "execute_result",
          "data": {
            "text/plain": [
              "21"
            ]
          },
          "metadata": {},
          "execution_count": 20
        }
      ]
    },
    {
      "cell_type": "code",
      "source": [
        "# Text Vectorization\n",
        "\n",
        "# Define vocab length and max lenght\n",
        "max_vocab_length = 10000\n",
        "max_length = 21\n",
        "\n",
        "# Define text vectorization for tokenization\n",
        "text_vectorization = TextVectorization(max_tokens= max_vocab_length,\n",
        "                                       standardize='lower_and_strip_punctuation',\n",
        "                                       split='whitespace',\n",
        "                                       ngrams=None,\n",
        "                                       output_mode='int',\n",
        "                                       output_sequence_length=max_length,\n",
        "                                       input_shape=(1,))"
      ],
      "metadata": {
        "id": "W0QWDLoJqEXb"
      },
      "execution_count": null,
      "outputs": []
    },
    {
      "cell_type": "code",
      "source": [
        "# Train data\n",
        "text_vectorization.adapt(X_train)"
      ],
      "metadata": {
        "id": "_jgD8KJHqa86"
      },
      "execution_count": null,
      "outputs": []
    },
    {
      "cell_type": "code",
      "source": [
        "X_val"
      ],
      "metadata": {
        "colab": {
          "base_uri": "https://localhost:8080/"
        },
        "id": "OzKy4iy1qdxT",
        "outputId": "05e93d6e-cded-4ac0-8c07-3778ca24f21a"
      },
      "execution_count": null,
      "outputs": [
        {
          "output_type": "execute_result",
          "data": {
            "text/plain": [
              "5487    within the framework of the partnership , noki...\n",
              "2014    in january-september 2007 , operating profit t...\n",
              "2307    the group , with net sales of eur 235 million ...\n",
              "5366    operating profit totalled eur 0.4 mn , up from...\n",
              "2560    `` there 's the issue of thieves stealing them...\n",
              "                              ...                        \n",
              "5452    `` demand for sports equipment was good in 2005 .\n",
              "4325    water treatment products in australia today , ...\n",
              "515     the adjustments concern staff in both the spec...\n",
              "3806    among other industrial stocks , metso added 0....\n",
              "3754    in a recent interview with the financial times...\n",
              "Name: Sentence, Length: 497, dtype: object"
            ]
          },
          "metadata": {},
          "execution_count": 24
        }
      ]
    },
    {
      "cell_type": "code",
      "source": [
        "# Embedding\n",
        "\n",
        "embedding =Embedding(input_dim=max_vocab_length,\n",
        "                     output_dim=128,\n",
        "                     embeddings_initializer='uniform',\n",
        "                     input_length=max_length\n",
        "                     )"
      ],
      "metadata": {
        "id": "T0LTEHkiqg58"
      },
      "execution_count": null,
      "outputs": []
    },
    {
      "cell_type": "code",
      "source": [
        "X_train.shape"
      ],
      "metadata": {
        "colab": {
          "base_uri": "https://localhost:8080/"
        },
        "id": "PHzA-Irxz7Q6",
        "outputId": "8576d85c-b706-44dd-c421-9adbb8d7652f"
      },
      "execution_count": null,
      "outputs": [
        {
          "output_type": "execute_result",
          "data": {
            "text/plain": [
              "(4468,)"
            ]
          },
          "metadata": {},
          "execution_count": 26
        }
      ]
    },
    {
      "cell_type": "markdown",
      "source": [
        "## 5.3 - Pipeline Dataset"
      ],
      "metadata": {
        "id": "4xTvD_OVb-GR"
      }
    },
    {
      "cell_type": "code",
      "source": [
        "# Build TensorFlow Pipeline and define batch in order to have stability in processing and managing data\n",
        "train_dataset = tf.data.Dataset.from_tensor_slices((X_train, y_train_oh)).batch(64)\n",
        "test_dataset = tf.data.Dataset.from_tensor_slices((X_test, y_test_oh)).batch(64)\n",
        "val_dataset = tf.data.Dataset.from_tensor_slices((X_val, y_val_oh)).batch(64)"
      ],
      "metadata": {
        "id": "JeThi0J7tdXe"
      },
      "execution_count": null,
      "outputs": []
    },
    {
      "cell_type": "markdown",
      "source": [
        "# 6.Modelling"
      ],
      "metadata": {
        "id": "kIEMzrG0qi0D"
      }
    },
    {
      "cell_type": "code",
      "source": [
        "# Define earlystopping to minimize overfitting\n",
        "callbacks= [\n",
        "    EarlyStopping(monitor= 'val_loss', mode= 'min', patience= 5, verbose=1),\n",
        "]"
      ],
      "metadata": {
        "id": "0ibDjofWqlvL"
      },
      "execution_count": null,
      "outputs": []
    },
    {
      "cell_type": "markdown",
      "source": [
        "## 6.1 - Base Model LSTM"
      ],
      "metadata": {
        "id": "OQvya6S7cEQs"
      }
    },
    {
      "cell_type": "code",
      "source": [
        "# define model\n",
        "model= Sequential()\n",
        "model.add(text_vectorization)\n",
        "model.add(embedding)\n",
        "model.add(LSTM(5))\n",
        "model.add(Dense(9, activation='relu'))\n",
        "model.add(Dense(9, activation='relu'))\n",
        "model.add(Dense(3, activation='softmax'))"
      ],
      "metadata": {
        "id": "r4T4eu_kqpYq"
      },
      "execution_count": null,
      "outputs": []
    },
    {
      "cell_type": "code",
      "source": [
        "# build function for modelling\n",
        "def deep_model(model):\n",
        "    model.compile(optimizer='adam'\n",
        "                  , loss='categorical_crossentropy'\n",
        "                  , metrics=['accuracy'])\n",
        "    \n",
        "    history = model.fit(train_dataset,epochs=300,\n",
        "                         callbacks=callbacks,\n",
        "                         validation_data=(val_dataset))\n",
        "    \n",
        "    return history"
      ],
      "metadata": {
        "id": "hZvtO172w7sQ"
      },
      "execution_count": null,
      "outputs": []
    },
    {
      "cell_type": "code",
      "source": [
        "base_history = deep_model(model)"
      ],
      "metadata": {
        "colab": {
          "base_uri": "https://localhost:8080/"
        },
        "id": "soZI1I_0qrdy",
        "outputId": "0144823a-19dc-4af1-ecfd-dd5d3e2e0ad4"
      },
      "execution_count": null,
      "outputs": [
        {
          "output_type": "stream",
          "name": "stdout",
          "text": [
            "Epoch 1/300\n",
            "70/70 [==============================] - 8s 54ms/step - loss: 1.0285 - accuracy: 0.5327 - val_loss: 0.9482 - val_accuracy: 0.5352\n",
            "Epoch 2/300\n",
            "70/70 [==============================] - 2s 35ms/step - loss: 0.8797 - accuracy: 0.5358 - val_loss: 0.9028 - val_accuracy: 0.5352\n",
            "Epoch 3/300\n",
            "70/70 [==============================] - 2s 32ms/step - loss: 0.7155 - accuracy: 0.6811 - val_loss: 0.8987 - val_accuracy: 0.6278\n",
            "Epoch 4/300\n",
            "70/70 [==============================] - 2s 34ms/step - loss: 0.4845 - accuracy: 0.8335 - val_loss: 0.9554 - val_accuracy: 0.6439\n",
            "Epoch 5/300\n",
            "70/70 [==============================] - 2s 33ms/step - loss: 0.3016 - accuracy: 0.8807 - val_loss: 1.1211 - val_accuracy: 0.6217\n",
            "Epoch 6/300\n",
            "70/70 [==============================] - 2s 29ms/step - loss: 0.2237 - accuracy: 0.9015 - val_loss: 1.2070 - val_accuracy: 0.6157\n",
            "Epoch 7/300\n",
            "70/70 [==============================] - 2s 33ms/step - loss: 0.1890 - accuracy: 0.9105 - val_loss: 1.3625 - val_accuracy: 0.6036\n",
            "Epoch 8/300\n",
            "70/70 [==============================] - 2s 30ms/step - loss: 0.1725 - accuracy: 0.9181 - val_loss: 1.5066 - val_accuracy: 0.6157\n",
            "Epoch 8: early stopping\n"
          ]
        }
      ]
    },
    {
      "cell_type": "markdown",
      "source": [
        "### 6.1.1 - Model Evaluation"
      ],
      "metadata": {
        "id": "r_NZ2iW3c7Oc"
      }
    },
    {
      "cell_type": "code",
      "source": [
        "hist_1_df = pd.DataFrame(base_history.history)\n",
        "hist_1_df[['loss', 'val_loss']].plot();"
      ],
      "metadata": {
        "colab": {
          "base_uri": "https://localhost:8080/",
          "height": 374
        },
        "id": "5epE8VwR12wc",
        "outputId": "d02f606b-0c7d-4132-fb1c-f116e791c8cf"
      },
      "execution_count": null,
      "outputs": [
        {
          "output_type": "display_data",
          "data": {
            "text/plain": [
              "<Figure size 432x432 with 1 Axes>"
            ],
            "image/png": "[encoded data removed]"
          },
          "metadata": {
            "needs_background": "light"
          }
        }
      ]
    },
    {
      "cell_type": "code",
      "source": [
        "hist_1_df[['accuracy', 'val_accuracy']].plot();"
      ],
      "metadata": {
        "colab": {
          "base_uri": "https://localhost:8080/",
          "height": 374
        },
        "id": "adWNSkfN1-ol",
        "outputId": "95db7a70-d866-4d6a-fd9c-b8b86132198a"
      },
      "execution_count": null,
      "outputs": [
        {
          "output_type": "display_data",
          "data": {
            "text/plain": [
              "<Figure size 432x432 with 1 Axes>"
            ],
            "image/png": "[encoded data removed]"
          },
          "metadata": {
            "needs_background": "light"
          }
        }
      ]
    },
    {
      "cell_type": "markdown",
      "source": [
        "### 6.1.2 - Model Improvement with dropout to handling overfitting"
      ],
      "metadata": {
        "id": "N3sVNaR1yJKP"
      }
    },
    {
      "cell_type": "code",
      "source": [
        "# Define Model\n",
        "reduced_model= Sequential()\n",
        "reduced_model.add(text_vectorization)\n",
        "reduced_model.add(embedding)\n",
        "reduced_model.add(LSTM(3))\n",
        "reduced_model.add(Dense(3, activation='relu'))\n",
        "reduced_model.add(Dropout(0.9))\n",
        "reduced_model.add(Dense(3, activation='relu'))\n",
        "reduced_model.add(Dropout(0.9))\n",
        "reduced_model.add(Dense(3, activation='softmax'))"
      ],
      "metadata": {
        "id": "T3COSaPBzPya"
      },
      "execution_count": null,
      "outputs": []
    },
    {
      "cell_type": "code",
      "source": [
        "reduced_history = deep_model(reduced_model)"
      ],
      "metadata": {
        "colab": {
          "base_uri": "https://localhost:8080/"
        },
        "id": "ZkXSs99gzJyC",
        "outputId": "a2dcff4f-2d79-4d7c-db61-ead299a9ef94"
      },
      "execution_count": null,
      "outputs": [
        {
          "output_type": "stream",
          "name": "stdout",
          "text": [
            "Epoch 1/300\n",
            "70/70 [==============================] - 6s 29ms/step - loss: 1.0817 - accuracy: 0.5316 - val_loss: 1.0658 - val_accuracy: 0.5352\n",
            "Epoch 2/300\n",
            "70/70 [==============================] - 1s 18ms/step - loss: 1.0577 - accuracy: 0.5372 - val_loss: 1.0428 - val_accuracy: 0.5352\n",
            "Epoch 3/300\n",
            "70/70 [==============================] - 1s 19ms/step - loss: 1.0351 - accuracy: 0.5387 - val_loss: 1.0262 - val_accuracy: 0.5352\n",
            "Epoch 4/300\n",
            "70/70 [==============================] - 1s 18ms/step - loss: 1.0236 - accuracy: 0.5376 - val_loss: 1.0131 - val_accuracy: 0.5352\n",
            "Epoch 5/300\n",
            "70/70 [==============================] - 1s 18ms/step - loss: 1.0112 - accuracy: 0.5419 - val_loss: 1.0044 - val_accuracy: 0.5352\n",
            "Epoch 6/300\n",
            "70/70 [==============================] - 1s 18ms/step - loss: 1.0024 - accuracy: 0.5392 - val_loss: 0.9975 - val_accuracy: 0.5352\n",
            "Epoch 7/300\n",
            "70/70 [==============================] - 1s 18ms/step - loss: 0.9978 - accuracy: 0.5414 - val_loss: 0.9925 - val_accuracy: 0.5352\n",
            "Epoch 8/300\n",
            "70/70 [==============================] - 1s 18ms/step - loss: 0.9925 - accuracy: 0.5405 - val_loss: 0.9892 - val_accuracy: 0.5352\n",
            "Epoch 9/300\n",
            "70/70 [==============================] - 1s 18ms/step - loss: 0.9879 - accuracy: 0.5394 - val_loss: 0.9862 - val_accuracy: 0.5352\n",
            "Epoch 10/300\n",
            "70/70 [==============================] - 1s 18ms/step - loss: 0.9827 - accuracy: 0.5421 - val_loss: 0.9838 - val_accuracy: 0.5352\n",
            "Epoch 11/300\n",
            "70/70 [==============================] - 1s 18ms/step - loss: 0.9831 - accuracy: 0.5401 - val_loss: 0.9819 - val_accuracy: 0.5352\n",
            "Epoch 12/300\n",
            "70/70 [==============================] - 1s 18ms/step - loss: 0.9806 - accuracy: 0.5401 - val_loss: 0.9808 - val_accuracy: 0.5352\n",
            "Epoch 13/300\n",
            "70/70 [==============================] - 1s 18ms/step - loss: 0.9767 - accuracy: 0.5401 - val_loss: 0.9793 - val_accuracy: 0.5352\n",
            "Epoch 14/300\n",
            "70/70 [==============================] - 1s 18ms/step - loss: 0.9765 - accuracy: 0.5405 - val_loss: 0.9776 - val_accuracy: 0.5352\n",
            "Epoch 15/300\n",
            "70/70 [==============================] - 1s 18ms/step - loss: 0.9734 - accuracy: 0.5425 - val_loss: 0.9775 - val_accuracy: 0.5352\n",
            "Epoch 16/300\n",
            "70/70 [==============================] - 1s 18ms/step - loss: 0.9735 - accuracy: 0.5423 - val_loss: 0.9765 - val_accuracy: 0.5352\n",
            "Epoch 17/300\n",
            "70/70 [==============================] - 1s 18ms/step - loss: 0.9759 - accuracy: 0.5405 - val_loss: 0.9760 - val_accuracy: 0.5352\n",
            "Epoch 18/300\n",
            "70/70 [==============================] - 1s 18ms/step - loss: 0.9746 - accuracy: 0.5405 - val_loss: 0.9770 - val_accuracy: 0.5352\n",
            "Epoch 19/300\n",
            "70/70 [==============================] - 1s 18ms/step - loss: 0.9743 - accuracy: 0.5419 - val_loss: 0.9772 - val_accuracy: 0.5352\n",
            "Epoch 20/300\n",
            "70/70 [==============================] - 1s 18ms/step - loss: 0.9741 - accuracy: 0.5410 - val_loss: 0.9769 - val_accuracy: 0.5352\n",
            "Epoch 21/300\n",
            "70/70 [==============================] - 1s 19ms/step - loss: 0.9741 - accuracy: 0.5416 - val_loss: 0.9776 - val_accuracy: 0.5352\n",
            "Epoch 22/300\n",
            "70/70 [==============================] - 1s 19ms/step - loss: 0.9760 - accuracy: 0.5401 - val_loss: 0.9782 - val_accuracy: 0.5352\n",
            "Epoch 22: early stopping\n"
          ]
        }
      ]
    },
    {
      "cell_type": "markdown",
      "source": [
        "#### 6.1.2 - Model Evaluation"
      ],
      "metadata": {
        "id": "KgMh7ksQdOEr"
      }
    },
    {
      "cell_type": "code",
      "source": [
        "hist_2_df = pd.DataFrame(reduced_history.history)\n",
        "hist_2_df[['loss', 'val_loss']].plot();"
      ],
      "metadata": {
        "colab": {
          "base_uri": "https://localhost:8080/",
          "height": 374
        },
        "id": "T6W60LSozoOr",
        "outputId": "4438d20e-f1d5-4d68-cc9e-1dff59df3b77"
      },
      "execution_count": null,
      "outputs": [
        {
          "output_type": "display_data",
          "data": {
            "text/plain": [
              "<Figure size 432x432 with 1 Axes>"
            ],
            "image/png": "[encoded data removed]"
          },
          "metadata": {
            "needs_background": "light"
          }
        }
      ]
    },
    {
      "cell_type": "code",
      "source": [
        "hist_2_df[['accuracy', 'val_accuracy']].plot();"
      ],
      "metadata": {
        "colab": {
          "base_uri": "https://localhost:8080/",
          "height": 374
        },
        "id": "uXOsS__pYwri",
        "outputId": "e6fe6e8b-83a5-47d9-ef05-fb31b993ffea"
      },
      "execution_count": null,
      "outputs": [
        {
          "output_type": "display_data",
          "data": {
            "text/plain": [
              "<Figure size 432x432 with 1 Axes>"
            ],
            "image/png": "[encoded data removed]"
          },
          "metadata": {
            "needs_background": "light"
          }
        }
      ]
    },
    {
      "cell_type": "markdown",
      "source": [
        "### 6.1.3 - Model Improvement with dropout and regularization"
      ],
      "metadata": {
        "id": "-SAWVvNqce2T"
      }
    },
    {
      "cell_type": "code",
      "source": [
        "# Define Model\n",
        "drop_model= Sequential()\n",
        "drop_model.add(text_vectorization)\n",
        "drop_model.add(embedding)\n",
        "drop_model.add(LSTM(3))\n",
        "# Layer 1\n",
        "drop_model.add(Dense(9,kernel_regularizer=regularizers.l2(0.001) ,activation='relu'))\n",
        "drop_model.add(Dropout(0.9))\n",
        "# Layer 2\n",
        "drop_model.add(layers.Dense(9, kernel_regularizer=regularizers.l2(0.001),activation='relu'))\n",
        "drop_model.add(layers.Dropout(0.9))\n",
        "drop_model.add(Dense(3, activation='softmax'))"
      ],
      "metadata": {
        "id": "HNgfpdOG0SVy"
      },
      "execution_count": null,
      "outputs": []
    },
    {
      "cell_type": "code",
      "source": [
        "drop_history = deep_model(drop_model)"
      ],
      "metadata": {
        "id": "GMSeAE980FML",
        "colab": {
          "base_uri": "https://localhost:8080/"
        },
        "outputId": "7812d34a-2291-44e3-9134-4cfc40102fb0"
      },
      "execution_count": null,
      "outputs": [
        {
          "output_type": "stream",
          "name": "stdout",
          "text": [
            "Epoch 1/300\n",
            "70/70 [==============================] - 4s 26ms/step - loss: 1.0902 - accuracy: 0.5197 - val_loss: 1.0604 - val_accuracy: 0.5352\n",
            "Epoch 2/300\n",
            "70/70 [==============================] - 1s 18ms/step - loss: 1.0555 - accuracy: 0.5347 - val_loss: 1.0326 - val_accuracy: 0.5352\n",
            "Epoch 3/300\n",
            "70/70 [==============================] - 1s 18ms/step - loss: 1.0331 - accuracy: 0.5354 - val_loss: 1.0128 - val_accuracy: 0.5352\n",
            "Epoch 4/300\n",
            "70/70 [==============================] - 1s 18ms/step - loss: 1.0208 - accuracy: 0.5372 - val_loss: 1.0045 - val_accuracy: 0.5352\n",
            "Epoch 5/300\n",
            "70/70 [==============================] - 1s 18ms/step - loss: 1.0149 - accuracy: 0.5383 - val_loss: 0.9983 - val_accuracy: 0.5352\n",
            "Epoch 6/300\n",
            "70/70 [==============================] - 1s 19ms/step - loss: 1.0082 - accuracy: 0.5401 - val_loss: 0.9937 - val_accuracy: 0.5352\n",
            "Epoch 7/300\n",
            "70/70 [==============================] - 1s 18ms/step - loss: 0.9955 - accuracy: 0.5448 - val_loss: 0.9866 - val_accuracy: 0.5352\n",
            "Epoch 8/300\n",
            "70/70 [==============================] - 1s 19ms/step - loss: 0.9913 - accuracy: 0.5472 - val_loss: 0.9802 - val_accuracy: 0.5352\n",
            "Epoch 9/300\n",
            "70/70 [==============================] - 1s 18ms/step - loss: 0.9786 - accuracy: 0.5575 - val_loss: 0.9650 - val_accuracy: 0.5412\n",
            "Epoch 10/300\n",
            "70/70 [==============================] - 1s 19ms/step - loss: 0.9664 - accuracy: 0.5613 - val_loss: 0.9522 - val_accuracy: 0.5674\n",
            "Epoch 11/300\n",
            "70/70 [==============================] - 1s 18ms/step - loss: 0.9597 - accuracy: 0.5687 - val_loss: 0.9309 - val_accuracy: 0.6197\n",
            "Epoch 12/300\n",
            "70/70 [==============================] - 1s 19ms/step - loss: 0.9558 - accuracy: 0.5676 - val_loss: 0.9315 - val_accuracy: 0.6137\n",
            "Epoch 13/300\n",
            "70/70 [==============================] - 1s 18ms/step - loss: 0.9493 - accuracy: 0.5763 - val_loss: 0.9232 - val_accuracy: 0.6237\n",
            "Epoch 14/300\n",
            "70/70 [==============================] - 1s 19ms/step - loss: 0.9392 - accuracy: 0.5817 - val_loss: 0.9108 - val_accuracy: 0.6358\n",
            "Epoch 15/300\n",
            "70/70 [==============================] - 1s 19ms/step - loss: 0.9311 - accuracy: 0.5877 - val_loss: 0.8987 - val_accuracy: 0.6398\n",
            "Epoch 16/300\n",
            "70/70 [==============================] - 1s 18ms/step - loss: 0.9348 - accuracy: 0.5833 - val_loss: 0.8903 - val_accuracy: 0.6479\n",
            "Epoch 17/300\n",
            "70/70 [==============================] - 1s 19ms/step - loss: 0.9255 - accuracy: 0.5958 - val_loss: 0.8899 - val_accuracy: 0.6439\n",
            "Epoch 18/300\n",
            "70/70 [==============================] - 2s 31ms/step - loss: 0.9146 - accuracy: 0.6014 - val_loss: 0.8714 - val_accuracy: 0.6579\n",
            "Epoch 19/300\n",
            "70/70 [==============================] - 1s 19ms/step - loss: 0.9164 - accuracy: 0.6005 - val_loss: 0.8796 - val_accuracy: 0.6499\n",
            "Epoch 20/300\n",
            "70/70 [==============================] - 1s 19ms/step - loss: 0.9095 - accuracy: 0.6045 - val_loss: 0.8688 - val_accuracy: 0.6459\n",
            "Epoch 21/300\n",
            "70/70 [==============================] - 1s 19ms/step - loss: 0.9189 - accuracy: 0.5965 - val_loss: 0.8810 - val_accuracy: 0.6318\n",
            "Epoch 22/300\n",
            "70/70 [==============================] - 1s 19ms/step - loss: 0.9055 - accuracy: 0.6052 - val_loss: 0.8655 - val_accuracy: 0.6459\n",
            "Epoch 23/300\n",
            "70/70 [==============================] - 1s 19ms/step - loss: 0.9148 - accuracy: 0.5976 - val_loss: 0.8728 - val_accuracy: 0.6398\n",
            "Epoch 24/300\n",
            "70/70 [==============================] - 1s 19ms/step - loss: 0.8937 - accuracy: 0.6099 - val_loss: 0.8585 - val_accuracy: 0.6439\n",
            "Epoch 25/300\n",
            "70/70 [==============================] - 1s 19ms/step - loss: 0.8955 - accuracy: 0.6090 - val_loss: 0.8703 - val_accuracy: 0.6338\n",
            "Epoch 26/300\n",
            "70/70 [==============================] - 1s 19ms/step - loss: 0.9020 - accuracy: 0.6036 - val_loss: 0.8598 - val_accuracy: 0.6600\n",
            "Epoch 27/300\n",
            "70/70 [==============================] - 1s 20ms/step - loss: 0.8907 - accuracy: 0.6144 - val_loss: 0.8638 - val_accuracy: 0.6459\n",
            "Epoch 28/300\n",
            "70/70 [==============================] - 1s 19ms/step - loss: 0.8888 - accuracy: 0.6128 - val_loss: 0.8538 - val_accuracy: 0.6579\n",
            "Epoch 29/300\n",
            "70/70 [==============================] - 1s 19ms/step - loss: 0.9015 - accuracy: 0.6034 - val_loss: 0.8650 - val_accuracy: 0.6479\n",
            "Epoch 30/300\n",
            "70/70 [==============================] - 1s 19ms/step - loss: 0.8955 - accuracy: 0.6085 - val_loss: 0.8608 - val_accuracy: 0.6539\n",
            "Epoch 31/300\n",
            "70/70 [==============================] - 1s 19ms/step - loss: 0.9003 - accuracy: 0.6036 - val_loss: 0.8665 - val_accuracy: 0.6479\n",
            "Epoch 32/300\n",
            "70/70 [==============================] - 1s 19ms/step - loss: 0.8941 - accuracy: 0.6092 - val_loss: 0.8720 - val_accuracy: 0.6419\n",
            "Epoch 33/300\n",
            "70/70 [==============================] - 1s 19ms/step - loss: 0.8827 - accuracy: 0.6177 - val_loss: 0.8674 - val_accuracy: 0.6640\n",
            "Epoch 33: early stopping\n"
          ]
        }
      ]
    },
    {
      "cell_type": "markdown",
      "source": [
        "#### 6.1.3 - Model Evaluation"
      ],
      "metadata": {
        "id": "qDJ4D2atdU9c"
      }
    },
    {
      "cell_type": "code",
      "source": [
        "hist_3_df = pd.DataFrame(drop_history.history)\n",
        "hist_3_df[['loss', 'val_loss']].plot();"
      ],
      "metadata": {
        "colab": {
          "base_uri": "https://localhost:8080/",
          "height": 376
        },
        "id": "6IzIAKgw3hti",
        "outputId": "caea9bda-00cf-4994-eff8-c6fc90fb61b9"
      },
      "execution_count": null,
      "outputs": [
        {
          "output_type": "display_data",
          "data": {
            "text/plain": [
              "<Figure size 432x432 with 1 Axes>"
            ],
            "image/png": "[encoded data removed]"
          },
          "metadata": {
            "needs_background": "light"
          }
        }
      ]
    },
    {
      "cell_type": "code",
      "source": [
        "hist_3_df[['accuracy', 'val_accuracy']].plot();"
      ],
      "metadata": {
        "colab": {
          "base_uri": "https://localhost:8080/",
          "height": 374
        },
        "id": "h_2j0fovbwIG",
        "outputId": "1d826340-18f4-443e-a55e-77aa5a4563f9"
      },
      "execution_count": null,
      "outputs": [
        {
          "output_type": "display_data",
          "data": {
            "text/plain": [
              "<Figure size 432x432 with 1 Axes>"
            ],
            "image/png": "[encoded data removed]"
          },
          "metadata": {
            "needs_background": "light"
          }
        }
      ]
    },
    {
      "cell_type": "markdown",
      "source": [
        "## 6.2 - Base Model GRU"
      ],
      "metadata": {
        "id": "6nd8WHsex2Td"
      }
    },
    {
      "cell_type": "code",
      "source": [
        "# Define Model\n",
        "model_4 = Sequential()\n",
        "model_4.add(text_vectorization)\n",
        "model_4.add(embedding)\n",
        "model_4.add(GRU(5))\n",
        "model_4.add(Dense(3, activation='softmax'))\n",
        "\n",
        "\n",
        "model_4.compile(loss='categorical_crossentropy',\n",
        "              optimizer='adam',\n",
        "              metrics=['accuracy'])"
      ],
      "metadata": {
        "id": "mIBgJpHPx8eN"
      },
      "execution_count": null,
      "outputs": []
    },
    {
      "cell_type": "code",
      "source": [
        "history_gru_default = deep_model(model_4)"
      ],
      "metadata": {
        "colab": {
          "base_uri": "https://localhost:8080/"
        },
        "id": "hdr540Xxy7ZQ",
        "outputId": "93f2be4f-269a-40dd-fee3-db76b94333e4"
      },
      "execution_count": null,
      "outputs": [
        {
          "output_type": "stream",
          "name": "stdout",
          "text": [
            "Epoch 1/300\n",
            "70/70 [==============================] - 4s 26ms/step - loss: 0.9452 - accuracy: 0.6573 - val_loss: 0.9208 - val_accuracy: 0.5875\n",
            "Epoch 2/300\n",
            "70/70 [==============================] - 1s 19ms/step - loss: 0.7157 - accuracy: 0.7473 - val_loss: 0.8494 - val_accuracy: 0.6197\n",
            "Epoch 3/300\n",
            "70/70 [==============================] - 1s 20ms/step - loss: 0.5094 - accuracy: 0.8342 - val_loss: 0.8127 - val_accuracy: 0.6378\n",
            "Epoch 4/300\n",
            "70/70 [==============================] - 2s 26ms/step - loss: 0.3695 - accuracy: 0.8762 - val_loss: 0.8383 - val_accuracy: 0.6338\n",
            "Epoch 5/300\n",
            "70/70 [==============================] - 1s 19ms/step - loss: 0.2906 - accuracy: 0.8948 - val_loss: 0.8896 - val_accuracy: 0.6197\n",
            "Epoch 6/300\n",
            "70/70 [==============================] - 1s 19ms/step - loss: 0.2441 - accuracy: 0.9020 - val_loss: 0.9464 - val_accuracy: 0.6076\n",
            "Epoch 7/300\n",
            "70/70 [==============================] - 1s 20ms/step - loss: 0.2138 - accuracy: 0.9022 - val_loss: 1.0023 - val_accuracy: 0.6117\n",
            "Epoch 8/300\n",
            "70/70 [==============================] - 1s 20ms/step - loss: 0.1923 - accuracy: 0.9035 - val_loss: 1.0555 - val_accuracy: 0.6117\n",
            "Epoch 8: early stopping\n"
          ]
        }
      ]
    },
    {
      "cell_type": "markdown",
      "source": [
        "### 6.2.1 - Model Evaluation"
      ],
      "metadata": {
        "id": "njy5NTWMzemk"
      }
    },
    {
      "cell_type": "code",
      "source": [
        "hist_gru_df = pd.DataFrame(history_gru_default.history)\n",
        "hist_gru_df[['loss', 'val_loss']].plot();"
      ],
      "metadata": {
        "colab": {
          "base_uri": "https://localhost:8080/",
          "height": 374
        },
        "id": "u_CbT-73zeCY",
        "outputId": "8ffbb80a-288b-4198-dea4-8c2cf742b9dc"
      },
      "execution_count": null,
      "outputs": [
        {
          "output_type": "display_data",
          "data": {
            "text/plain": [
              "<Figure size 432x432 with 1 Axes>"
            ],
            "image/png": "[encoded data removed]"
          },
          "metadata": {
            "needs_background": "light"
          }
        }
      ]
    },
    {
      "cell_type": "markdown",
      "source": [
        "The model looks overfitting"
      ],
      "metadata": {
        "id": "PYnsocmyHRo7"
      }
    },
    {
      "cell_type": "markdown",
      "source": [
        "### 6.2.2 - Model Improvement with dropout to handling overfitting"
      ],
      "metadata": {
        "id": "xsKw5SjPz0DJ"
      }
    },
    {
      "cell_type": "code",
      "source": [
        "reduced_gru_model= Sequential()\n",
        "reduced_gru_model.add(text_vectorization)\n",
        "reduced_gru_model.add(embedding)\n",
        "reduced_gru_model.add(GRU(5))\n",
        "reduced_gru_model.add(Dense(3, activation='relu'))\n",
        "reduced_gru_model.add(Dropout(0.9))\n",
        "reduced_gru_model.add(Dense(3, activation='relu'))\n",
        "reduced_gru_model.add(Dropout(0.9))\n",
        "reduced_gru_model.add(Dense(3, activation='softmax'))"
      ],
      "metadata": {
        "id": "FRjiS_Xoz0xI"
      },
      "execution_count": null,
      "outputs": []
    },
    {
      "cell_type": "code",
      "source": [
        "hist_gru_reduced = deep_model(reduced_gru_model)"
      ],
      "metadata": {
        "colab": {
          "base_uri": "https://localhost:8080/"
        },
        "id": "ASy8B1zL0SzE",
        "outputId": "a912d825-3de5-4b1e-f1d1-5cf29fbd75e7"
      },
      "execution_count": null,
      "outputs": [
        {
          "output_type": "stream",
          "name": "stdout",
          "text": [
            "Epoch 1/300\n",
            "70/70 [==============================] - 4s 27ms/step - loss: 1.0862 - accuracy: 0.5295 - val_loss: 1.0718 - val_accuracy: 0.5352\n",
            "Epoch 2/300\n",
            "70/70 [==============================] - 1s 20ms/step - loss: 1.0624 - accuracy: 0.5358 - val_loss: 1.0527 - val_accuracy: 0.5352\n",
            "Epoch 3/300\n",
            "70/70 [==============================] - 1s 20ms/step - loss: 1.0432 - accuracy: 0.5358 - val_loss: 1.0346 - val_accuracy: 0.5352\n",
            "Epoch 4/300\n",
            "70/70 [==============================] - 1s 19ms/step - loss: 1.0284 - accuracy: 0.5358 - val_loss: 1.0188 - val_accuracy: 0.5352\n",
            "Epoch 5/300\n",
            "70/70 [==============================] - 1s 19ms/step - loss: 1.0162 - accuracy: 0.5358 - val_loss: 1.0114 - val_accuracy: 0.5352\n",
            "Epoch 6/300\n",
            "70/70 [==============================] - 1s 19ms/step - loss: 1.0078 - accuracy: 0.5358 - val_loss: 1.0039 - val_accuracy: 0.5352\n",
            "Epoch 7/300\n",
            "70/70 [==============================] - 1s 20ms/step - loss: 0.9989 - accuracy: 0.5358 - val_loss: 0.9962 - val_accuracy: 0.5352\n",
            "Epoch 8/300\n",
            "70/70 [==============================] - 1s 19ms/step - loss: 0.9946 - accuracy: 0.5358 - val_loss: 0.9929 - val_accuracy: 0.5352\n",
            "Epoch 9/300\n",
            "70/70 [==============================] - 1s 20ms/step - loss: 0.9896 - accuracy: 0.5358 - val_loss: 0.9890 - val_accuracy: 0.5352\n",
            "Epoch 10/300\n",
            "70/70 [==============================] - 1s 19ms/step - loss: 0.9874 - accuracy: 0.5358 - val_loss: 0.9851 - val_accuracy: 0.5352\n",
            "Epoch 11/300\n",
            "70/70 [==============================] - 1s 19ms/step - loss: 0.9865 - accuracy: 0.5358 - val_loss: 0.9851 - val_accuracy: 0.5352\n",
            "Epoch 12/300\n",
            "70/70 [==============================] - 1s 19ms/step - loss: 0.9823 - accuracy: 0.5358 - val_loss: 0.9814 - val_accuracy: 0.5352\n",
            "Epoch 13/300\n",
            "70/70 [==============================] - 1s 19ms/step - loss: 0.9819 - accuracy: 0.5358 - val_loss: 0.9802 - val_accuracy: 0.5352\n",
            "Epoch 14/300\n",
            "70/70 [==============================] - 1s 20ms/step - loss: 0.9790 - accuracy: 0.5358 - val_loss: 0.9786 - val_accuracy: 0.5352\n",
            "Epoch 15/300\n",
            "70/70 [==============================] - 1s 20ms/step - loss: 0.9798 - accuracy: 0.5358 - val_loss: 0.9782 - val_accuracy: 0.5352\n",
            "Epoch 16/300\n",
            "70/70 [==============================] - 1s 20ms/step - loss: 0.9784 - accuracy: 0.5358 - val_loss: 0.9767 - val_accuracy: 0.5352\n",
            "Epoch 17/300\n",
            "70/70 [==============================] - 1s 20ms/step - loss: 0.9783 - accuracy: 0.5358 - val_loss: 0.9761 - val_accuracy: 0.5352\n",
            "Epoch 18/300\n",
            "70/70 [==============================] - 1s 20ms/step - loss: 0.9773 - accuracy: 0.5358 - val_loss: 0.9773 - val_accuracy: 0.5352\n",
            "Epoch 19/300\n",
            "70/70 [==============================] - 1s 20ms/step - loss: 0.9775 - accuracy: 0.5358 - val_loss: 0.9775 - val_accuracy: 0.5352\n",
            "Epoch 20/300\n",
            "70/70 [==============================] - 1s 19ms/step - loss: 0.9768 - accuracy: 0.5358 - val_loss: 0.9754 - val_accuracy: 0.5352\n",
            "Epoch 21/300\n",
            "70/70 [==============================] - 1s 19ms/step - loss: 0.9779 - accuracy: 0.5358 - val_loss: 0.9771 - val_accuracy: 0.5352\n",
            "Epoch 22/300\n",
            "70/70 [==============================] - 1s 19ms/step - loss: 0.9780 - accuracy: 0.5358 - val_loss: 0.9765 - val_accuracy: 0.5352\n",
            "Epoch 23/300\n",
            "70/70 [==============================] - 1s 20ms/step - loss: 0.9773 - accuracy: 0.5358 - val_loss: 0.9756 - val_accuracy: 0.5352\n",
            "Epoch 24/300\n",
            "70/70 [==============================] - 1s 20ms/step - loss: 0.9760 - accuracy: 0.5358 - val_loss: 0.9751 - val_accuracy: 0.5352\n",
            "Epoch 25/300\n",
            "70/70 [==============================] - 1s 19ms/step - loss: 0.9778 - accuracy: 0.5358 - val_loss: 0.9755 - val_accuracy: 0.5352\n",
            "Epoch 26/300\n",
            "70/70 [==============================] - 1s 20ms/step - loss: 0.9766 - accuracy: 0.5358 - val_loss: 0.9748 - val_accuracy: 0.5352\n",
            "Epoch 27/300\n",
            "70/70 [==============================] - 1s 20ms/step - loss: 0.9765 - accuracy: 0.5358 - val_loss: 0.9745 - val_accuracy: 0.5352\n",
            "Epoch 28/300\n",
            "70/70 [==============================] - 2s 22ms/step - loss: 0.9764 - accuracy: 0.5358 - val_loss: 0.9754 - val_accuracy: 0.5352\n",
            "Epoch 29/300\n",
            "70/70 [==============================] - 1s 20ms/step - loss: 0.9746 - accuracy: 0.5358 - val_loss: 0.9742 - val_accuracy: 0.5352\n",
            "Epoch 30/300\n",
            "70/70 [==============================] - 1s 20ms/step - loss: 0.9744 - accuracy: 0.5358 - val_loss: 0.9720 - val_accuracy: 0.5352\n",
            "Epoch 31/300\n",
            "70/70 [==============================] - 1s 19ms/step - loss: 0.9758 - accuracy: 0.5358 - val_loss: 0.9740 - val_accuracy: 0.5352\n",
            "Epoch 32/300\n",
            "70/70 [==============================] - 1s 20ms/step - loss: 0.9766 - accuracy: 0.5358 - val_loss: 0.9745 - val_accuracy: 0.5352\n",
            "Epoch 33/300\n",
            "70/70 [==============================] - 1s 20ms/step - loss: 0.9747 - accuracy: 0.5358 - val_loss: 0.9731 - val_accuracy: 0.5352\n",
            "Epoch 34/300\n",
            "70/70 [==============================] - 1s 19ms/step - loss: 0.9760 - accuracy: 0.5358 - val_loss: 0.9745 - val_accuracy: 0.5352\n",
            "Epoch 35/300\n",
            "70/70 [==============================] - 1s 19ms/step - loss: 0.9758 - accuracy: 0.5358 - val_loss: 0.9751 - val_accuracy: 0.5352\n",
            "Epoch 35: early stopping\n"
          ]
        }
      ]
    },
    {
      "cell_type": "markdown",
      "source": [
        "#### 6.2.2 - Model Evaluation"
      ],
      "metadata": {
        "id": "v0p0emWT0EJj"
      }
    },
    {
      "cell_type": "code",
      "source": [
        "gru_reduced = pd.DataFrame(hist_gru_reduced.history)\n",
        "gru_reduced[['loss', 'val_loss']].plot();"
      ],
      "metadata": {
        "colab": {
          "base_uri": "https://localhost:8080/",
          "height": 374
        },
        "id": "B2asxGth0D4c",
        "outputId": "1305dcdf-3904-4264-febd-0e4c7179172a"
      },
      "execution_count": null,
      "outputs": [
        {
          "output_type": "display_data",
          "data": {
            "text/plain": [
              "<Figure size 432x432 with 1 Axes>"
            ],
            "image/png": "[encoded data removed]"
          },
          "metadata": {
            "needs_background": "light"
          }
        }
      ]
    },
    {
      "cell_type": "code",
      "source": [
        "gru_reduced[['accuracy', 'val_accuracy']].plot();"
      ],
      "metadata": {
        "colab": {
          "base_uri": "https://localhost:8080/",
          "height": 374
        },
        "id": "Sb88HEyG0-Ft",
        "outputId": "6fe2c0eb-dce8-483d-853a-3d5b687b2fb5"
      },
      "execution_count": null,
      "outputs": [
        {
          "output_type": "display_data",
          "data": {
            "text/plain": [
              "<Figure size 432x432 with 1 Axes>"
            ],
            "image/png": "[encoded data removed]"
          },
          "metadata": {
            "needs_background": "light"
          }
        }
      ]
    },
    {
      "cell_type": "markdown",
      "source": [
        "### 6.2.3 - Model Improvement with dropout and regularization"
      ],
      "metadata": {
        "id": "sMuQdUpo2I6E"
      }
    },
    {
      "cell_type": "code",
      "source": [
        "reg_gru= Sequential()\n",
        "reg_gru.add(text_vectorization)\n",
        "reg_gru.add(embedding)\n",
        "reg_gru.add(GRU(5))\n",
        "# Layer 1\n",
        "reg_gru.add(Dense(9,kernel_regularizer=regularizers.l2(0.001) ,activation='relu'))\n",
        "reg_gru.add(Dropout(0.9))\n",
        "# Layer 2\n",
        "reg_gru.add(layers.Dense(9, kernel_regularizer=regularizers.l2(0.001),activation='relu'))\n",
        "reg_gru.add(layers.Dropout(0.9))\n",
        "reg_gru.add(Dense(3, activation='softmax'))"
      ],
      "metadata": {
        "id": "pJWU3-vy2Jn8"
      },
      "execution_count": null,
      "outputs": []
    },
    {
      "cell_type": "code",
      "source": [
        "last_history = deep_model(reg_gru)"
      ],
      "metadata": {
        "colab": {
          "base_uri": "https://localhost:8080/"
        },
        "id": "17GKaR0p2Ri8",
        "outputId": "4e8a38f5-fc14-44dd-8125-c87359895ab8"
      },
      "execution_count": null,
      "outputs": [
        {
          "output_type": "stream",
          "name": "stdout",
          "text": [
            "Epoch 1/300\n",
            "70/70 [==============================] - 4s 27ms/step - loss: 1.0951 - accuracy: 0.5239 - val_loss: 1.0659 - val_accuracy: 0.5352\n",
            "Epoch 2/300\n",
            "70/70 [==============================] - 1s 19ms/step - loss: 1.0595 - accuracy: 0.5313 - val_loss: 1.0369 - val_accuracy: 0.5352\n",
            "Epoch 3/300\n",
            "70/70 [==============================] - 1s 19ms/step - loss: 1.0343 - accuracy: 0.5309 - val_loss: 1.0185 - val_accuracy: 0.5352\n",
            "Epoch 4/300\n",
            "70/70 [==============================] - 1s 19ms/step - loss: 1.0129 - accuracy: 0.5336 - val_loss: 1.0060 - val_accuracy: 0.5352\n",
            "Epoch 5/300\n",
            "70/70 [==============================] - 1s 19ms/step - loss: 1.0121 - accuracy: 0.5331 - val_loss: 1.0024 - val_accuracy: 0.5352\n",
            "Epoch 6/300\n",
            "70/70 [==============================] - 1s 19ms/step - loss: 0.9997 - accuracy: 0.5349 - val_loss: 0.9921 - val_accuracy: 0.5352\n",
            "Epoch 7/300\n",
            "70/70 [==============================] - 1s 19ms/step - loss: 0.9783 - accuracy: 0.5333 - val_loss: 0.9827 - val_accuracy: 0.5352\n",
            "Epoch 8/300\n",
            "70/70 [==============================] - 1s 19ms/step - loss: 0.9771 - accuracy: 0.5354 - val_loss: 0.9736 - val_accuracy: 0.5352\n",
            "Epoch 9/300\n",
            "70/70 [==============================] - 1s 19ms/step - loss: 0.9668 - accuracy: 0.5351 - val_loss: 0.9638 - val_accuracy: 0.5352\n",
            "Epoch 10/300\n",
            "70/70 [==============================] - 1s 19ms/step - loss: 0.9627 - accuracy: 0.5347 - val_loss: 0.9612 - val_accuracy: 0.5352\n",
            "Epoch 11/300\n",
            "70/70 [==============================] - 1s 19ms/step - loss: 0.9470 - accuracy: 0.5347 - val_loss: 0.9479 - val_accuracy: 0.5352\n",
            "Epoch 12/300\n",
            "70/70 [==============================] - 1s 19ms/step - loss: 0.9338 - accuracy: 0.5349 - val_loss: 0.9421 - val_accuracy: 0.5352\n",
            "Epoch 13/300\n",
            "70/70 [==============================] - 1s 19ms/step - loss: 0.9238 - accuracy: 0.5351 - val_loss: 0.9444 - val_accuracy: 0.5352\n",
            "Epoch 14/300\n",
            "70/70 [==============================] - 1s 19ms/step - loss: 0.9206 - accuracy: 0.5354 - val_loss: 0.9506 - val_accuracy: 0.5352\n",
            "Epoch 15/300\n",
            "70/70 [==============================] - 1s 19ms/step - loss: 0.9287 - accuracy: 0.5358 - val_loss: 0.9481 - val_accuracy: 0.5352\n",
            "Epoch 16/300\n",
            "70/70 [==============================] - 1s 19ms/step - loss: 0.9230 - accuracy: 0.5354 - val_loss: 0.9404 - val_accuracy: 0.5352\n",
            "Epoch 17/300\n",
            "70/70 [==============================] - 1s 19ms/step - loss: 0.9178 - accuracy: 0.5358 - val_loss: 0.9480 - val_accuracy: 0.5352\n",
            "Epoch 18/300\n",
            "70/70 [==============================] - 1s 19ms/step - loss: 0.9188 - accuracy: 0.5356 - val_loss: 0.9452 - val_accuracy: 0.5352\n",
            "Epoch 19/300\n",
            "70/70 [==============================] - 1s 20ms/step - loss: 0.9103 - accuracy: 0.5354 - val_loss: 0.9357 - val_accuracy: 0.5352\n",
            "Epoch 20/300\n",
            "70/70 [==============================] - 1s 19ms/step - loss: 0.9106 - accuracy: 0.5358 - val_loss: 0.9549 - val_accuracy: 0.5352\n",
            "Epoch 21/300\n",
            "70/70 [==============================] - 1s 19ms/step - loss: 0.9130 - accuracy: 0.5358 - val_loss: 0.9511 - val_accuracy: 0.5352\n",
            "Epoch 22/300\n",
            "70/70 [==============================] - 1s 18ms/step - loss: 0.9115 - accuracy: 0.5358 - val_loss: 0.9666 - val_accuracy: 0.5352\n",
            "Epoch 23/300\n",
            "70/70 [==============================] - 1s 19ms/step - loss: 0.9079 - accuracy: 0.5356 - val_loss: 0.9711 - val_accuracy: 0.5352\n",
            "Epoch 24/300\n",
            "70/70 [==============================] - 1s 19ms/step - loss: 0.9111 - accuracy: 0.5358 - val_loss: 0.9653 - val_accuracy: 0.5352\n",
            "Epoch 24: early stopping\n"
          ]
        }
      ]
    },
    {
      "cell_type": "markdown",
      "source": [
        "#### 6.2.3 -  Model Evaluation"
      ],
      "metadata": {
        "id": "q1jiewof3cne"
      }
    },
    {
      "cell_type": "code",
      "source": [
        "gru_reduced_reg = pd.DataFrame(last_history.history)\n",
        "gru_reduced_reg[['loss', 'val_loss']].plot();"
      ],
      "metadata": {
        "colab": {
          "base_uri": "https://localhost:8080/",
          "height": 374
        },
        "id": "peUm0yph3Fb7",
        "outputId": "9c1920f2-df14-487e-eae0-6da66ba7f869"
      },
      "execution_count": null,
      "outputs": [
        {
          "output_type": "display_data",
          "data": {
            "text/plain": [
              "<Figure size 432x432 with 1 Axes>"
            ],
            "image/png": "[encoded data removed]"
          },
          "metadata": {
            "needs_background": "light"
          }
        }
      ]
    },
    {
      "cell_type": "code",
      "source": [
        "gru_reduced_reg[['accuracy', 'val_accuracy']].plot();"
      ],
      "metadata": {
        "colab": {
          "base_uri": "https://localhost:8080/",
          "height": 374
        },
        "id": "5KxlTALZ3VWb",
        "outputId": "5156e25a-f064-475f-c30f-8cf3a5e06a7c"
      },
      "execution_count": null,
      "outputs": [
        {
          "output_type": "display_data",
          "data": {
            "text/plain": [
              "<Figure size 432x432 with 1 Axes>"
            ],
            "image/png": "[encoded data removed]"
          },
          "metadata": {
            "needs_background": "light"
          }
        }
      ]
    },
    {
      "cell_type": "markdown",
      "source": [
        "\n",
        "---\n",
        "\n",
        "# 7.Model Conclusion\n",
        "\n",
        "1. with the default LSTM model, the model produces very overfitting results, it can be seen from the plotting results where the lines are far apart from each other\n",
        "\n",
        "2. When optimization is carried out by entering drop outs in it, good results are given, where the results show no overfitting because the lines are not far from each other\n",
        "\n",
        "3. When optimization with regularization is added, good results are obtained on `val loss` but we get poor results on accuracy which looks like underfitting\n",
        "\n",
        "4. With the GRU model, we get the same results as the default model, which is where the results are very overfitting, we can see that the plots are far apart from each other.\n",
        "\n",
        "5. when the optimization is done, the results are not much different, the model gives overfitting results, where the lines are far from each other, that also happens to the accuracy.\n",
        "\n",
        "6. When the second optimization was carried out on the GRU model, overfitting occurred again, where the line did not provide a definite direction.\n",
        "\n",
        "7. Based on the results of these two models, and all of their optimizations, it can be concluded that in this case I will use the LSTM model using handling overfitting with the dropout method only, because the results that can be seen from the plot look stable even though the accuracy is lacking, but this one is better than the others\n",
        "\n",
        "---"
      ],
      "metadata": {
        "id": "1bXOKZ663mBH"
      }
    },
    {
      "cell_type": "markdown",
      "source": [
        "## 7.1 - Model Pipeline"
      ],
      "metadata": {
        "id": "4W4Fw4sJ3zZj"
      }
    },
    {
      "cell_type": "code",
      "source": [
        "callbacks_2= [\n",
        "    EarlyStopping(monitor= 'val_loss', mode= 'min', patience= 5, verbose=1),\n",
        "    ModelCheckpoint('model_best.hdf5', monitor='val_loss', save_best_only= True)\n",
        "\n",
        "]"
      ],
      "metadata": {
        "id": "dx29tT56329F"
      },
      "execution_count": null,
      "outputs": []
    },
    {
      "cell_type": "code",
      "source": [
        "# Build pipeline\n",
        "train_dataset = tf.data.Dataset.from_tensor_slices((X_train, y_train_oh)).batch(64)\n",
        "test_dataset = tf.data.Dataset.from_tensor_slices((X_test, y_test_oh)).batch(64)\n",
        "val_dataset = tf.data.Dataset.from_tensor_slices((X_val, y_val_oh)).batch(64)\n",
        "\n",
        "# Define Model\n",
        "model_pipeline= Sequential()\n",
        "model_pipeline.add(text_vectorization)\n",
        "model_pipeline.add(embedding)\n",
        "model_pipeline.add(GRU(5))\n",
        "model_pipeline.add(Dense(3, activation='relu'))\n",
        "model_pipeline.add(Dropout(0.9))\n",
        "model_pipeline.add(Dense(3, activation='relu'))\n",
        "model_pipeline.add(Dropout(0.9))\n",
        "model_pipeline.add(Dense(3, activation='softmax'))\n",
        "\n",
        "model_pipeline.compile(loss='categorical_crossentropy',\n",
        "              optimizer='adam',\n",
        "              metrics=['accuracy'])"
      ],
      "metadata": {
        "id": "42-Wakt33_oN"
      },
      "execution_count": null,
      "outputs": []
    },
    {
      "cell_type": "code",
      "source": [
        "hist_pipeline = model_pipeline.fit(train_dataset,epochs=300, callbacks=callbacks,\n",
        "                         validation_data=(val_dataset))"
      ],
      "metadata": {
        "colab": {
          "base_uri": "https://localhost:8080/"
        },
        "id": "HHSYMrO94KZZ",
        "outputId": "6ce5bc5d-38c0-4e24-9dd5-7067a8e3ff1c"
      },
      "execution_count": null,
      "outputs": [
        {
          "output_type": "stream",
          "name": "stdout",
          "text": [
            "Epoch 1/300\n",
            "70/70 [==============================] - 4s 26ms/step - loss: 1.0943 - accuracy: 0.5273 - val_loss: 1.0734 - val_accuracy: 0.5352\n",
            "Epoch 2/300\n",
            "70/70 [==============================] - 1s 18ms/step - loss: 1.0645 - accuracy: 0.5354 - val_loss: 1.0536 - val_accuracy: 0.5352\n",
            "Epoch 3/300\n",
            "70/70 [==============================] - 1s 18ms/step - loss: 1.0471 - accuracy: 0.5374 - val_loss: 1.0371 - val_accuracy: 0.5352\n",
            "Epoch 4/300\n",
            "70/70 [==============================] - 1s 18ms/step - loss: 1.0311 - accuracy: 0.5365 - val_loss: 1.0242 - val_accuracy: 0.5352\n",
            "Epoch 5/300\n",
            "70/70 [==============================] - 1s 18ms/step - loss: 1.0204 - accuracy: 0.5354 - val_loss: 1.0140 - val_accuracy: 0.5352\n",
            "Epoch 6/300\n",
            "70/70 [==============================] - 1s 18ms/step - loss: 1.0100 - accuracy: 0.5356 - val_loss: 1.0061 - val_accuracy: 0.5352\n",
            "Epoch 7/300\n",
            "70/70 [==============================] - 1s 18ms/step - loss: 1.0048 - accuracy: 0.5360 - val_loss: 0.9999 - val_accuracy: 0.5352\n",
            "Epoch 8/300\n",
            "70/70 [==============================] - 1s 18ms/step - loss: 0.9977 - accuracy: 0.5356 - val_loss: 0.9952 - val_accuracy: 0.5352\n",
            "Epoch 9/300\n",
            "70/70 [==============================] - 1s 18ms/step - loss: 0.9931 - accuracy: 0.5360 - val_loss: 0.9915 - val_accuracy: 0.5352\n",
            "Epoch 10/300\n",
            "70/70 [==============================] - 1s 19ms/step - loss: 0.9895 - accuracy: 0.5365 - val_loss: 0.9883 - val_accuracy: 0.5352\n",
            "Epoch 11/300\n",
            "70/70 [==============================] - 1s 18ms/step - loss: 0.9874 - accuracy: 0.5365 - val_loss: 0.9865 - val_accuracy: 0.5352\n",
            "Epoch 12/300\n",
            "70/70 [==============================] - 1s 18ms/step - loss: 0.9856 - accuracy: 0.5360 - val_loss: 0.9848 - val_accuracy: 0.5352\n",
            "Epoch 13/300\n",
            "70/70 [==============================] - 1s 18ms/step - loss: 0.9844 - accuracy: 0.5358 - val_loss: 0.9836 - val_accuracy: 0.5352\n",
            "Epoch 14/300\n",
            "70/70 [==============================] - 1s 18ms/step - loss: 0.9837 - accuracy: 0.5360 - val_loss: 0.9832 - val_accuracy: 0.5352\n",
            "Epoch 15/300\n",
            "70/70 [==============================] - 1s 18ms/step - loss: 0.9830 - accuracy: 0.5356 - val_loss: 0.9826 - val_accuracy: 0.5352\n",
            "Epoch 16/300\n",
            "70/70 [==============================] - 1s 19ms/step - loss: 0.9831 - accuracy: 0.5356 - val_loss: 0.9821 - val_accuracy: 0.5352\n",
            "Epoch 17/300\n",
            "70/70 [==============================] - 1s 18ms/step - loss: 0.9814 - accuracy: 0.5358 - val_loss: 0.9816 - val_accuracy: 0.5352\n",
            "Epoch 18/300\n",
            "70/70 [==============================] - 1s 17ms/step - loss: 0.9807 - accuracy: 0.5363 - val_loss: 0.9813 - val_accuracy: 0.5352\n",
            "Epoch 19/300\n",
            "70/70 [==============================] - 1s 18ms/step - loss: 0.9808 - accuracy: 0.5365 - val_loss: 0.9806 - val_accuracy: 0.5352\n",
            "Epoch 20/300\n",
            "70/70 [==============================] - 1s 18ms/step - loss: 0.9875 - accuracy: 0.5360 - val_loss: 0.9807 - val_accuracy: 0.5352\n",
            "Epoch 21/300\n",
            "70/70 [==============================] - 1s 18ms/step - loss: 0.9808 - accuracy: 0.5363 - val_loss: 0.9806 - val_accuracy: 0.5352\n",
            "Epoch 22/300\n",
            "70/70 [==============================] - 1s 18ms/step - loss: 0.9799 - accuracy: 0.5365 - val_loss: 0.9805 - val_accuracy: 0.5352\n",
            "Epoch 23/300\n",
            "70/70 [==============================] - 1s 18ms/step - loss: 0.9846 - accuracy: 0.5358 - val_loss: 0.9805 - val_accuracy: 0.5352\n",
            "Epoch 24/300\n",
            "70/70 [==============================] - 1s 18ms/step - loss: 0.9815 - accuracy: 0.5358 - val_loss: 0.9805 - val_accuracy: 0.5352\n",
            "Epoch 25/300\n",
            "70/70 [==============================] - 1s 18ms/step - loss: 0.9802 - accuracy: 0.5360 - val_loss: 0.9797 - val_accuracy: 0.5352\n",
            "Epoch 26/300\n",
            "70/70 [==============================] - 1s 18ms/step - loss: 0.9846 - accuracy: 0.5360 - val_loss: 0.9805 - val_accuracy: 0.5352\n",
            "Epoch 27/300\n",
            "70/70 [==============================] - 1s 18ms/step - loss: 0.9803 - accuracy: 0.5358 - val_loss: 0.9804 - val_accuracy: 0.5352\n",
            "Epoch 28/300\n",
            "70/70 [==============================] - 1s 18ms/step - loss: 0.9824 - accuracy: 0.5356 - val_loss: 0.9804 - val_accuracy: 0.5352\n",
            "Epoch 29/300\n",
            "70/70 [==============================] - 1s 18ms/step - loss: 0.9793 - accuracy: 0.5372 - val_loss: 0.9798 - val_accuracy: 0.5352\n",
            "Epoch 30/300\n",
            "70/70 [==============================] - 1s 18ms/step - loss: 0.9798 - accuracy: 0.5365 - val_loss: 0.9805 - val_accuracy: 0.5352\n",
            "Epoch 30: early stopping\n"
          ]
        }
      ]
    },
    {
      "cell_type": "code",
      "source": [
        "# Save model\n",
        "model_pipeline.save('choosen_model')"
      ],
      "metadata": {
        "colab": {
          "base_uri": "https://localhost:8080/"
        },
        "id": "dnmxFoC44NA2",
        "outputId": "6139a88a-dc41-4693-dbe1-9b6d0cd32c1e"
      },
      "execution_count": null,
      "outputs": [
        {
          "output_type": "stream",
          "name": "stderr",
          "text": [
            "WARNING:absl:Found untraced functions such as gru_cell_5_layer_call_fn, gru_cell_5_layer_call_and_return_conditional_losses while saving (showing 2 of 2). These functions will not be directly callable after loading.\n"
          ]
        },
        {
          "output_type": "stream",
          "name": "stdout",
          "text": [
            "INFO:tensorflow:Assets written to: choosen_model/assets\n"
          ]
        },
        {
          "output_type": "stream",
          "name": "stderr",
          "text": [
            "INFO:tensorflow:Assets written to: choosen_model/assets\n",
            "WARNING:absl:<keras.layers.recurrent.GRUCell object at 0x7ff825355490> has the same name 'GRUCell' as a built-in Keras object. Consider renaming <class 'keras.layers.recurrent.GRUCell'> to avoid naming conflicts when loading with `tf.keras.models.load_model`. If renaming is not possible, pass the object in the `custom_objects` parameter of the load function.\n"
          ]
        }
      ]
    },
    {
      "cell_type": "code",
      "source": [
        "model_pipeline_df = pd.DataFrame(hist_pipeline.history)\n",
        "model_pipeline_df[['loss', 'val_loss']].plot();"
      ],
      "metadata": {
        "colab": {
          "base_uri": "https://localhost:8080/",
          "height": 378
        },
        "id": "2B7Qxpyb4YYJ",
        "outputId": "f65ed428-ebf2-4ec5-f2bb-dc2f914ef39b"
      },
      "execution_count": null,
      "outputs": [
        {
          "output_type": "display_data",
          "data": {
            "text/plain": [
              "<Figure size 432x432 with 1 Axes>"
            ],
            "image/png": "[encoded data removed]"
          },
          "metadata": {
            "needs_background": "light"
          }
        }
      ]
    },
    {
      "cell_type": "code",
      "source": [
        "model_pipeline_df[['accuracy', 'val_accuracy']].plot();"
      ],
      "metadata": {
        "colab": {
          "base_uri": "https://localhost:8080/",
          "height": 374
        },
        "id": "9nnVJwGs4aFT",
        "outputId": "5af718d7-a3d3-48a7-d96e-07e85d0da991"
      },
      "execution_count": null,
      "outputs": [
        {
          "output_type": "display_data",
          "data": {
            "text/plain": [
              "<Figure size 432x432 with 1 Axes>"
            ],
            "image/png": "[encoded data removed]"
          },
          "metadata": {
            "needs_background": "light"
          }
        }
      ]
    },
    {
      "cell_type": "markdown",
      "source": [
        "# 8.Model Inference"
      ],
      "metadata": {
        "id": "eqMKx_Rq3peb"
      }
    },
    {
      "cell_type": "code",
      "source": [
        "data_inf"
      ],
      "metadata": {
        "colab": {
          "base_uri": "https://localhost:8080/",
          "height": 363
        },
        "id": "9yUGPYPh3t63",
        "outputId": "642dcc62-26b9-4ad3-ce23-ccabfd185263"
      },
      "execution_count": null,
      "outputs": [
        {
          "output_type": "execute_result",
          "data": {
            "text/plain": [
              "                                            Sentence Sentiment\n",
              "0  The company also said that its board of direct...   neutral\n",
              "1  In 2007 Talentum will disclose three Interim R...   neutral\n",
              "2  `` While concerns remain longer term , size an...  positive\n",
              "3              ( I&H ) in a move to enhance growth .  positive\n",
              "4  It also turned to earnings per share ( EPS ) o...  positive\n",
              "5  However , the orders received during the perio...   neutral\n",
              "6  Coca-Cola was the market leader of manufacture...   neutral\n",
              "7  $SLW is down, but weekly $34 calls (-28.95%), ...  positive\n",
              "8  Nonwovens and specialty papers , made by Ahlst...   neutral\n",
              "9  Finnish construction company YIT Oyj said on N...  positive"
            ],
            "text/html": [
              "\n",
              "  <div id=\"df-8e4e6506-4f65-41ea-a6c6-2930abc6818a\">\n",
              "    <div class=\"colab-df-container\">\n",
              "      <div>\n",
              "<style scoped>\n",
              "    .dataframe tbody tr th:only-of-type {\n",
              "        vertical-align: middle;\n",
              "    }\n",
              "\n",
              "    .dataframe tbody tr th {\n",
              "        vertical-align: top;\n",
              "    }\n",
              "\n",
              "    .dataframe thead th {\n",
              "        text-align: right;\n",
              "    }\n",
              "</style>\n",
              "<table border=\"1\" class=\"dataframe\">\n",
              "  <thead>\n",
              "    <tr style=\"text-align: right;\">\n",
              "      <th></th>\n",
              "      <th>Sentence</th>\n",
              "      <th>Sentiment</th>\n",
              "    </tr>\n",
              "  </thead>\n",
              "  <tbody>\n",
              "    <tr>\n",
              "      <th>0</th>\n",
              "      <td>The company also said that its board of direct...</td>\n",
              "      <td>neutral</td>\n",
              "    </tr>\n",
              "    <tr>\n",
              "      <th>1</th>\n",
              "      <td>In 2007 Talentum will disclose three Interim R...</td>\n",
              "      <td>neutral</td>\n",
              "    </tr>\n",
              "    <tr>\n",
              "      <th>2</th>\n",
              "      <td>`` While concerns remain longer term , size an...</td>\n",
              "      <td>positive</td>\n",
              "    </tr>\n",
              "    <tr>\n",
              "      <th>3</th>\n",
              "      <td>( I&amp;H ) in a move to enhance growth .</td>\n",
              "      <td>positive</td>\n",
              "    </tr>\n",
              "    <tr>\n",
              "      <th>4</th>\n",
              "      <td>It also turned to earnings per share ( EPS ) o...</td>\n",
              "      <td>positive</td>\n",
              "    </tr>\n",
              "    <tr>\n",
              "      <th>5</th>\n",
              "      <td>However , the orders received during the perio...</td>\n",
              "      <td>neutral</td>\n",
              "    </tr>\n",
              "    <tr>\n",
              "      <th>6</th>\n",
              "      <td>Coca-Cola was the market leader of manufacture...</td>\n",
              "      <td>neutral</td>\n",
              "    </tr>\n",
              "    <tr>\n",
              "      <th>7</th>\n",
              "      <td>$SLW is down, but weekly $34 calls (-28.95%), ...</td>\n",
              "      <td>positive</td>\n",
              "    </tr>\n",
              "    <tr>\n",
              "      <th>8</th>\n",
              "      <td>Nonwovens and specialty papers , made by Ahlst...</td>\n",
              "      <td>neutral</td>\n",
              "    </tr>\n",
              "    <tr>\n",
              "      <th>9</th>\n",
              "      <td>Finnish construction company YIT Oyj said on N...</td>\n",
              "      <td>positive</td>\n",
              "    </tr>\n",
              "  </tbody>\n",
              "</table>\n",
              "</div>\n",
              "      <button class=\"colab-df-convert\" onclick=\"convertToInteractive('df-8e4e6506-4f65-41ea-a6c6-2930abc6818a')\"\n",
              "              title=\"Convert this dataframe to an interactive table.\"\n",
              "              style=\"display:none;\">\n",
              "        \n",
              "  <svg xmlns=\"http://www.w3.org/2000/svg\" height=\"24px\"viewBox=\"0 0 24 24\"\n",
              "       width=\"24px\">\n",
              "    <path d=\"M0 0h24v24H0V0z\" fill=\"none\"/>\n",
              "    <path d=\"M18.56 5.44l.94 2.06.94-2.06 2.06-.94-2.06-.94-.94-2.06-.94 2.06-2.06.94zm-11 1L8.5 8.5l.94-2.06 2.06-.94-2.06-.94L8.5 2.5l-.94 2.06-2.06.94zm10 10l.94 2.06.94-2.06 2.06-.94-2.06-.94-.94-2.06-.94 2.06-2.06.94z\"/><path d=\"M17.41 7.96l-1.37-1.37c-.4-.4-.92-.59-1.43-.59-.52 0-1.04.2-1.43.59L10.3 9.45l-7.72 7.72c-.78.78-.78 2.05 0 2.83L4 21.41c.39.39.9.59 1.41.59.51 0 1.02-.2 1.41-.59l7.78-7.78 2.81-2.81c.8-.78.8-2.07 0-2.86zM5.41 20L4 18.59l7.72-7.72 1.47 1.35L5.41 20z\"/>\n",
              "  </svg>\n",
              "      </button>\n",
              "      \n",
              "  <style>\n",
              "    .colab-df-container {\n",
              "      display:flex;\n",
              "      flex-wrap:wrap;\n",
              "      gap: 12px;\n",
              "    }\n",
              "\n",
              "    .colab-df-convert {\n",
              "      background-color: #E8F0FE;\n",
              "      border: none;\n",
              "      border-radius: 50%;\n",
              "      cursor: pointer;\n",
              "      display: none;\n",
              "      fill: #1967D2;\n",
              "      height: 32px;\n",
              "      padding: 0 0 0 0;\n",
              "      width: 32px;\n",
              "    }\n",
              "\n",
              "    .colab-df-convert:hover {\n",
              "      background-color: #E2EBFA;\n",
              "      box-shadow: 0px 1px 2px rgba(60, 64, 67, 0.3), 0px 1px 3px 1px rgba(60, 64, 67, 0.15);\n",
              "      fill: #174EA6;\n",
              "    }\n",
              "\n",
              "    [theme=dark] .colab-df-convert {\n",
              "      background-color: #3B4455;\n",
              "      fill: #D2E3FC;\n",
              "    }\n",
              "\n",
              "    [theme=dark] .colab-df-convert:hover {\n",
              "      background-color: #434B5C;\n",
              "      box-shadow: 0px 1px 3px 1px rgba(0, 0, 0, 0.15);\n",
              "      filter: drop-shadow(0px 1px 2px rgba(0, 0, 0, 0.3));\n",
              "      fill: #FFFFFF;\n",
              "    }\n",
              "  </style>\n",
              "\n",
              "      <script>\n",
              "        const buttonEl =\n",
              "          document.querySelector('#df-8e4e6506-4f65-41ea-a6c6-2930abc6818a button.colab-df-convert');\n",
              "        buttonEl.style.display =\n",
              "          google.colab.kernel.accessAllowed ? 'block' : 'none';\n",
              "\n",
              "        async function convertToInteractive(key) {\n",
              "          const element = document.querySelector('#df-8e4e6506-4f65-41ea-a6c6-2930abc6818a');\n",
              "          const dataTable =\n",
              "            await google.colab.kernel.invokeFunction('convertToInteractive',\n",
              "                                                     [key], {});\n",
              "          if (!dataTable) return;\n",
              "\n",
              "          const docLinkHtml = 'Like what you see? Visit the ' +\n",
              "            '<a target=\"_blank\" href=https://colab.research.google.com/notebooks/data_table.ipynb>data table notebook</a>'\n",
              "            + ' to learn more about interactive tables.';\n",
              "          element.innerHTML = '';\n",
              "          dataTable['output_type'] = 'display_data';\n",
              "          await google.colab.output.renderOutput(dataTable, element);\n",
              "          const docLink = document.createElement('div');\n",
              "          docLink.innerHTML = docLinkHtml;\n",
              "          element.appendChild(docLink);\n",
              "        }\n",
              "      </script>\n",
              "    </div>\n",
              "  </div>\n",
              "  "
            ]
          },
          "metadata": {},
          "execution_count": 97
        }
      ]
    },
    {
      "cell_type": "code",
      "source": [
        "load_model = keras.models.load_model(\"choosen_model\")"
      ],
      "metadata": {
        "id": "1ofovoev-emT"
      },
      "execution_count": null,
      "outputs": []
    },
    {
      "cell_type": "code",
      "source": [
        "y_pred_inf = load_model.predict(data_inf['Sentiment'])\n",
        "y_pred_inf"
      ],
      "metadata": {
        "colab": {
          "base_uri": "https://localhost:8080/"
        },
        "id": "GXarPc2K-w49",
        "outputId": "8d83da37-2314-4df7-bc21-c9928359e8f6"
      },
      "execution_count": null,
      "outputs": [
        {
          "output_type": "execute_result",
          "data": {
            "text/plain": [
              "array([[0.14853166, 0.5376128 , 0.31385556],\n",
              "       [0.14853166, 0.5376128 , 0.31385556],\n",
              "       [0.15070711, 0.4924583 , 0.35683453],\n",
              "       [0.15070711, 0.4924583 , 0.35683453],\n",
              "       [0.15070711, 0.4924583 , 0.35683453],\n",
              "       [0.14853166, 0.5376128 , 0.31385556],\n",
              "       [0.14853166, 0.5376128 , 0.31385556],\n",
              "       [0.15070711, 0.4924583 , 0.35683453],\n",
              "       [0.14853166, 0.5376128 , 0.31385556],\n",
              "       [0.15070711, 0.4924583 , 0.35683453]], dtype=float32)"
            ]
          },
          "metadata": {},
          "execution_count": 99
        }
      ]
    },
    {
      "cell_type": "code",
      "source": [
        "y_pred_inf = y_pred_inf.argmax(axis=1)\n",
        "y_pred_inf"
      ],
      "metadata": {
        "colab": {
          "base_uri": "https://localhost:8080/"
        },
        "id": "9Z247KER-3mz",
        "outputId": "f8f5593f-9b85-4540-db67-6239e433b30a"
      },
      "execution_count": null,
      "outputs": [
        {
          "output_type": "execute_result",
          "data": {
            "text/plain": [
              "array([1, 1, 1, 1, 1, 1, 1, 1, 1, 1])"
            ]
          },
          "metadata": {},
          "execution_count": 100
        }
      ]
    },
    {
      "cell_type": "code",
      "source": [
        "y_pred_inf = pd.DataFrame(y_pred_inf, columns=['Sentiment-Prediction'])\n",
        "y_pred_inf"
      ],
      "metadata": {
        "colab": {
          "base_uri": "https://localhost:8080/",
          "height": 363
        },
        "id": "eSjmxr2k-6hr",
        "outputId": "55201593-b7ce-4822-ca2a-bb02440500c5"
      },
      "execution_count": null,
      "outputs": [
        {
          "output_type": "execute_result",
          "data": {
            "text/plain": [
              "   Sentiment-Prediction\n",
              "0                     1\n",
              "1                     1\n",
              "2                     1\n",
              "3                     1\n",
              "4                     1\n",
              "5                     1\n",
              "6                     1\n",
              "7                     1\n",
              "8                     1\n",
              "9                     1"
            ],
            "text/html": [
              "\n",
              "  <div id=\"df-c330e476-11c4-4243-bd3e-59676892bd91\">\n",
              "    <div class=\"colab-df-container\">\n",
              "      <div>\n",
              "<style scoped>\n",
              "    .dataframe tbody tr th:only-of-type {\n",
              "        vertical-align: middle;\n",
              "    }\n",
              "\n",
              "    .dataframe tbody tr th {\n",
              "        vertical-align: top;\n",
              "    }\n",
              "\n",
              "    .dataframe thead th {\n",
              "        text-align: right;\n",
              "    }\n",
              "</style>\n",
              "<table border=\"1\" class=\"dataframe\">\n",
              "  <thead>\n",
              "    <tr style=\"text-align: right;\">\n",
              "      <th></th>\n",
              "      <th>Sentiment-Prediction</th>\n",
              "    </tr>\n",
              "  </thead>\n",
              "  <tbody>\n",
              "    <tr>\n",
              "      <th>0</th>\n",
              "      <td>1</td>\n",
              "    </tr>\n",
              "    <tr>\n",
              "      <th>1</th>\n",
              "      <td>1</td>\n",
              "    </tr>\n",
              "    <tr>\n",
              "      <th>2</th>\n",
              "      <td>1</td>\n",
              "    </tr>\n",
              "    <tr>\n",
              "      <th>3</th>\n",
              "      <td>1</td>\n",
              "    </tr>\n",
              "    <tr>\n",
              "      <th>4</th>\n",
              "      <td>1</td>\n",
              "    </tr>\n",
              "    <tr>\n",
              "      <th>5</th>\n",
              "      <td>1</td>\n",
              "    </tr>\n",
              "    <tr>\n",
              "      <th>6</th>\n",
              "      <td>1</td>\n",
              "    </tr>\n",
              "    <tr>\n",
              "      <th>7</th>\n",
              "      <td>1</td>\n",
              "    </tr>\n",
              "    <tr>\n",
              "      <th>8</th>\n",
              "      <td>1</td>\n",
              "    </tr>\n",
              "    <tr>\n",
              "      <th>9</th>\n",
              "      <td>1</td>\n",
              "    </tr>\n",
              "  </tbody>\n",
              "</table>\n",
              "</div>\n",
              "      <button class=\"colab-df-convert\" onclick=\"convertToInteractive('df-c330e476-11c4-4243-bd3e-59676892bd91')\"\n",
              "              title=\"Convert this dataframe to an interactive table.\"\n",
              "              style=\"display:none;\">\n",
              "        \n",
              "  <svg xmlns=\"http://www.w3.org/2000/svg\" height=\"24px\"viewBox=\"0 0 24 24\"\n",
              "       width=\"24px\">\n",
              "    <path d=\"M0 0h24v24H0V0z\" fill=\"none\"/>\n",
              "    <path d=\"M18.56 5.44l.94 2.06.94-2.06 2.06-.94-2.06-.94-.94-2.06-.94 2.06-2.06.94zm-11 1L8.5 8.5l.94-2.06 2.06-.94-2.06-.94L8.5 2.5l-.94 2.06-2.06.94zm10 10l.94 2.06.94-2.06 2.06-.94-2.06-.94-.94-2.06-.94 2.06-2.06.94z\"/><path d=\"M17.41 7.96l-1.37-1.37c-.4-.4-.92-.59-1.43-.59-.52 0-1.04.2-1.43.59L10.3 9.45l-7.72 7.72c-.78.78-.78 2.05 0 2.83L4 21.41c.39.39.9.59 1.41.59.51 0 1.02-.2 1.41-.59l7.78-7.78 2.81-2.81c.8-.78.8-2.07 0-2.86zM5.41 20L4 18.59l7.72-7.72 1.47 1.35L5.41 20z\"/>\n",
              "  </svg>\n",
              "      </button>\n",
              "      \n",
              "  <style>\n",
              "    .colab-df-container {\n",
              "      display:flex;\n",
              "      flex-wrap:wrap;\n",
              "      gap: 12px;\n",
              "    }\n",
              "\n",
              "    .colab-df-convert {\n",
              "      background-color: #E8F0FE;\n",
              "      border: none;\n",
              "      border-radius: 50%;\n",
              "      cursor: pointer;\n",
              "      display: none;\n",
              "      fill: #1967D2;\n",
              "      height: 32px;\n",
              "      padding: 0 0 0 0;\n",
              "      width: 32px;\n",
              "    }\n",
              "\n",
              "    .colab-df-convert:hover {\n",
              "      background-color: #E2EBFA;\n",
              "      box-shadow: 0px 1px 2px rgba(60, 64, 67, 0.3), 0px 1px 3px 1px rgba(60, 64, 67, 0.15);\n",
              "      fill: #174EA6;\n",
              "    }\n",
              "\n",
              "    [theme=dark] .colab-df-convert {\n",
              "      background-color: #3B4455;\n",
              "      fill: #D2E3FC;\n",
              "    }\n",
              "\n",
              "    [theme=dark] .colab-df-convert:hover {\n",
              "      background-color: #434B5C;\n",
              "      box-shadow: 0px 1px 3px 1px rgba(0, 0, 0, 0.15);\n",
              "      filter: drop-shadow(0px 1px 2px rgba(0, 0, 0, 0.3));\n",
              "      fill: #FFFFFF;\n",
              "    }\n",
              "  </style>\n",
              "\n",
              "      <script>\n",
              "        const buttonEl =\n",
              "          document.querySelector('#df-c330e476-11c4-4243-bd3e-59676892bd91 button.colab-df-convert');\n",
              "        buttonEl.style.display =\n",
              "          google.colab.kernel.accessAllowed ? 'block' : 'none';\n",
              "\n",
              "        async function convertToInteractive(key) {\n",
              "          const element = document.querySelector('#df-c330e476-11c4-4243-bd3e-59676892bd91');\n",
              "          const dataTable =\n",
              "            await google.colab.kernel.invokeFunction('convertToInteractive',\n",
              "                                                     [key], {});\n",
              "          if (!dataTable) return;\n",
              "\n",
              "          const docLinkHtml = 'Like what you see? Visit the ' +\n",
              "            '<a target=\"_blank\" href=https://colab.research.google.com/notebooks/data_table.ipynb>data table notebook</a>'\n",
              "            + ' to learn more about interactive tables.';\n",
              "          element.innerHTML = '';\n",
              "          dataTable['output_type'] = 'display_data';\n",
              "          await google.colab.output.renderOutput(dataTable, element);\n",
              "          const docLink = document.createElement('div');\n",
              "          docLink.innerHTML = docLinkHtml;\n",
              "          element.appendChild(docLink);\n",
              "        }\n",
              "      </script>\n",
              "    </div>\n",
              "  </div>\n",
              "  "
            ]
          },
          "metadata": {},
          "execution_count": 101
        }
      ]
    },
    {
      "cell_type": "code",
      "source": [
        "data_inf_concat = pd.concat([data_inf, y_pred_inf], axis=1)\n",
        "data_inf_concat"
      ],
      "metadata": {
        "colab": {
          "base_uri": "https://localhost:8080/",
          "height": 363
        },
        "id": "ZNQxuHgq_DHv",
        "outputId": "bd8db737-c3a5-48ad-b972-baacb301de4a"
      },
      "execution_count": null,
      "outputs": [
        {
          "output_type": "execute_result",
          "data": {
            "text/plain": [
              "                                            Sentence Sentiment  \\\n",
              "0  The company also said that its board of direct...   neutral   \n",
              "1  In 2007 Talentum will disclose three Interim R...   neutral   \n",
              "2  `` While concerns remain longer term , size an...  positive   \n",
              "3              ( I&H ) in a move to enhance growth .  positive   \n",
              "4  It also turned to earnings per share ( EPS ) o...  positive   \n",
              "5  However , the orders received during the perio...   neutral   \n",
              "6  Coca-Cola was the market leader of manufacture...   neutral   \n",
              "7  $SLW is down, but weekly $34 calls (-28.95%), ...  positive   \n",
              "8  Nonwovens and specialty papers , made by Ahlst...   neutral   \n",
              "9  Finnish construction company YIT Oyj said on N...  positive   \n",
              "\n",
              "   Sentiment-Prediction  \n",
              "0                     1  \n",
              "1                     1  \n",
              "2                     1  \n",
              "3                     1  \n",
              "4                     1  \n",
              "5                     1  \n",
              "6                     1  \n",
              "7                     1  \n",
              "8                     1  \n",
              "9                     1  "
            ],
            "text/html": [
              "\n",
              "  <div id=\"df-ff8a7e2f-0b3d-42b4-a8b6-0a843201d213\">\n",
              "    <div class=\"colab-df-container\">\n",
              "      <div>\n",
              "<style scoped>\n",
              "    .dataframe tbody tr th:only-of-type {\n",
              "        vertical-align: middle;\n",
              "    }\n",
              "\n",
              "    .dataframe tbody tr th {\n",
              "        vertical-align: top;\n",
              "    }\n",
              "\n",
              "    .dataframe thead th {\n",
              "        text-align: right;\n",
              "    }\n",
              "</style>\n",
              "<table border=\"1\" class=\"dataframe\">\n",
              "  <thead>\n",
              "    <tr style=\"text-align: right;\">\n",
              "      <th></th>\n",
              "      <th>Sentence</th>\n",
              "      <th>Sentiment</th>\n",
              "      <th>Sentiment-Prediction</th>\n",
              "    </tr>\n",
              "  </thead>\n",
              "  <tbody>\n",
              "    <tr>\n",
              "      <th>0</th>\n",
              "      <td>The company also said that its board of direct...</td>\n",
              "      <td>neutral</td>\n",
              "      <td>1</td>\n",
              "    </tr>\n",
              "    <tr>\n",
              "      <th>1</th>\n",
              "      <td>In 2007 Talentum will disclose three Interim R...</td>\n",
              "      <td>neutral</td>\n",
              "      <td>1</td>\n",
              "    </tr>\n",
              "    <tr>\n",
              "      <th>2</th>\n",
              "      <td>`` While concerns remain longer term , size an...</td>\n",
              "      <td>positive</td>\n",
              "      <td>1</td>\n",
              "    </tr>\n",
              "    <tr>\n",
              "      <th>3</th>\n",
              "      <td>( I&amp;H ) in a move to enhance growth .</td>\n",
              "      <td>positive</td>\n",
              "      <td>1</td>\n",
              "    </tr>\n",
              "    <tr>\n",
              "      <th>4</th>\n",
              "      <td>It also turned to earnings per share ( EPS ) o...</td>\n",
              "      <td>positive</td>\n",
              "      <td>1</td>\n",
              "    </tr>\n",
              "    <tr>\n",
              "      <th>5</th>\n",
              "      <td>However , the orders received during the perio...</td>\n",
              "      <td>neutral</td>\n",
              "      <td>1</td>\n",
              "    </tr>\n",
              "    <tr>\n",
              "      <th>6</th>\n",
              "      <td>Coca-Cola was the market leader of manufacture...</td>\n",
              "      <td>neutral</td>\n",
              "      <td>1</td>\n",
              "    </tr>\n",
              "    <tr>\n",
              "      <th>7</th>\n",
              "      <td>$SLW is down, but weekly $34 calls (-28.95%), ...</td>\n",
              "      <td>positive</td>\n",
              "      <td>1</td>\n",
              "    </tr>\n",
              "    <tr>\n",
              "      <th>8</th>\n",
              "      <td>Nonwovens and specialty papers , made by Ahlst...</td>\n",
              "      <td>neutral</td>\n",
              "      <td>1</td>\n",
              "    </tr>\n",
              "    <tr>\n",
              "      <th>9</th>\n",
              "      <td>Finnish construction company YIT Oyj said on N...</td>\n",
              "      <td>positive</td>\n",
              "      <td>1</td>\n",
              "    </tr>\n",
              "  </tbody>\n",
              "</table>\n",
              "</div>\n",
              "      <button class=\"colab-df-convert\" onclick=\"convertToInteractive('df-ff8a7e2f-0b3d-42b4-a8b6-0a843201d213')\"\n",
              "              title=\"Convert this dataframe to an interactive table.\"\n",
              "              style=\"display:none;\">\n",
              "        \n",
              "  <svg xmlns=\"http://www.w3.org/2000/svg\" height=\"24px\"viewBox=\"0 0 24 24\"\n",
              "       width=\"24px\">\n",
              "    <path d=\"M0 0h24v24H0V0z\" fill=\"none\"/>\n",
              "    <path d=\"M18.56 5.44l.94 2.06.94-2.06 2.06-.94-2.06-.94-.94-2.06-.94 2.06-2.06.94zm-11 1L8.5 8.5l.94-2.06 2.06-.94-2.06-.94L8.5 2.5l-.94 2.06-2.06.94zm10 10l.94 2.06.94-2.06 2.06-.94-2.06-.94-.94-2.06-.94 2.06-2.06.94z\"/><path d=\"M17.41 7.96l-1.37-1.37c-.4-.4-.92-.59-1.43-.59-.52 0-1.04.2-1.43.59L10.3 9.45l-7.72 7.72c-.78.78-.78 2.05 0 2.83L4 21.41c.39.39.9.59 1.41.59.51 0 1.02-.2 1.41-.59l7.78-7.78 2.81-2.81c.8-.78.8-2.07 0-2.86zM5.41 20L4 18.59l7.72-7.72 1.47 1.35L5.41 20z\"/>\n",
              "  </svg>\n",
              "      </button>\n",
              "      \n",
              "  <style>\n",
              "    .colab-df-container {\n",
              "      display:flex;\n",
              "      flex-wrap:wrap;\n",
              "      gap: 12px;\n",
              "    }\n",
              "\n",
              "    .colab-df-convert {\n",
              "      background-color: #E8F0FE;\n",
              "      border: none;\n",
              "      border-radius: 50%;\n",
              "      cursor: pointer;\n",
              "      display: none;\n",
              "      fill: #1967D2;\n",
              "      height: 32px;\n",
              "      padding: 0 0 0 0;\n",
              "      width: 32px;\n",
              "    }\n",
              "\n",
              "    .colab-df-convert:hover {\n",
              "      background-color: #E2EBFA;\n",
              "      box-shadow: 0px 1px 2px rgba(60, 64, 67, 0.3), 0px 1px 3px 1px rgba(60, 64, 67, 0.15);\n",
              "      fill: #174EA6;\n",
              "    }\n",
              "\n",
              "    [theme=dark] .colab-df-convert {\n",
              "      background-color: #3B4455;\n",
              "      fill: #D2E3FC;\n",
              "    }\n",
              "\n",
              "    [theme=dark] .colab-df-convert:hover {\n",
              "      background-color: #434B5C;\n",
              "      box-shadow: 0px 1px 3px 1px rgba(0, 0, 0, 0.15);\n",
              "      filter: drop-shadow(0px 1px 2px rgba(0, 0, 0, 0.3));\n",
              "      fill: #FFFFFF;\n",
              "    }\n",
              "  </style>\n",
              "\n",
              "      <script>\n",
              "        const buttonEl =\n",
              "          document.querySelector('#df-ff8a7e2f-0b3d-42b4-a8b6-0a843201d213 button.colab-df-convert');\n",
              "        buttonEl.style.display =\n",
              "          google.colab.kernel.accessAllowed ? 'block' : 'none';\n",
              "\n",
              "        async function convertToInteractive(key) {\n",
              "          const element = document.querySelector('#df-ff8a7e2f-0b3d-42b4-a8b6-0a843201d213');\n",
              "          const dataTable =\n",
              "            await google.colab.kernel.invokeFunction('convertToInteractive',\n",
              "                                                     [key], {});\n",
              "          if (!dataTable) return;\n",
              "\n",
              "          const docLinkHtml = 'Like what you see? Visit the ' +\n",
              "            '<a target=\"_blank\" href=https://colab.research.google.com/notebooks/data_table.ipynb>data table notebook</a>'\n",
              "            + ' to learn more about interactive tables.';\n",
              "          element.innerHTML = '';\n",
              "          dataTable['output_type'] = 'display_data';\n",
              "          await google.colab.output.renderOutput(dataTable, element);\n",
              "          const docLink = document.createElement('div');\n",
              "          docLink.innerHTML = docLinkHtml;\n",
              "          element.appendChild(docLink);\n",
              "        }\n",
              "      </script>\n",
              "    </div>\n",
              "  </div>\n",
              "  "
            ]
          },
          "metadata": {},
          "execution_count": 70
        }
      ]
    },
    {
      "cell_type": "markdown",
      "source": [
        "# 9.Overall Conclusion"
      ],
      "metadata": {
        "id": "yJa8JfOt7cDN"
      }
    },
    {
      "cell_type": "markdown",
      "source": [
        "---\n",
        "\n",
        "1. Sentences that have negative, neutral or positive sentiments have the same distribution, which is skewed to the right\n",
        "\n",
        "2. Each sentence mostly has 20 words\n",
        "\n",
        "3. Based on the target, most sentences are detected as neutral sentences and then followed by sentences with positive connotations\n",
        "\n",
        "4. There are 119 unique sentences, which also include symbols that are not needed, so they will be cleaned, so as not to interfere with the prediction results.\n",
        "\n",
        "5. with the default LSTM model, the model produces very overfitting results, it can be seen from the plotting results where the lines are far apart from each other\n",
        "\n",
        "6. When optimization is carried out by entering drop outs in it, good results are given, where the results show no overfitting because the lines are not far from each other\n",
        "\n",
        "7. When optimization with regularization is added, good results are obtained on `val loss` but we get poor results on accuracy which looks like underfitting\n",
        "\n",
        "8. With the GRU model, we get the same results as the default model, which is where the results are very overfitting, we can see that the plots are far apart from each other.\n",
        "\n",
        "9. when the optimization is done, the results are not much different, the model gives overfitting results, where the lines are far from each other, that also happens to the accuracy.\n",
        "\n",
        "10. When the second optimization was carried out on the GRU model, overfitting occurred again, where the line did not provide a definite direction.\n",
        "\n",
        "11. Based on the results of these two models, and all of their optimizations, it can be concluded that in this case I will use the LSTM model using handling overfitting with the dropout method only, because the results that can be seen from the plot look stable even though the accuracy is lacking, but this one is better than the others\n",
        "\n",
        "---"
      ],
      "metadata": {
        "id": "1qDmffbKGw3J"
      }
    }
  ]
}